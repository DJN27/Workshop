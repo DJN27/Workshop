{
  "nbformat": 4,
  "nbformat_minor": 0,
  "metadata": {
    "colab": {
      "provenance": []
    },
    "kernelspec": {
      "name": "python3",
      "display_name": "Python 3"
    },
    "language_info": {
      "name": "python"
    }
  },
  "cells": [
    {
      "cell_type": "code",
      "source": [
        "from google.colab import drive\n",
        "drive.mount('/content/drive')"
      ],
      "metadata": {
        "colab": {
          "base_uri": "https://localhost:8080/"
        },
        "id": "C6TCJDrN2WzU",
        "outputId": "4d5bffd1-9141-4a1d-ab89-92f79368c421"
      },
      "execution_count": 1,
      "outputs": [
        {
          "output_type": "stream",
          "name": "stdout",
          "text": [
            "Mounted at /content/drive\n"
          ]
        }
      ]
    },
    {
      "cell_type": "code",
      "source": [
        "#Setting/activating the environment variable as java (not compulsory everytime if you are on same runtime)\n",
        "import os\n",
        "os.environ[\"JAVA_HOME\"]=\"/lib/jvm/java-11-openjdk-amd64\""
      ],
      "metadata": {
        "id": "fiOAX_LF1c5V"
      },
      "execution_count": 2,
      "outputs": []
    },
    {
      "cell_type": "code",
      "source": [
        "from pyspark.sql import SparkSession\n",
        "\n",
        "spark = SparkSession.builder \\\n",
        "    .appName(\"LogFileAnalysis\") \\\n",
        "    .config(\"spark.driver.memory\", \"4g\") \\\n",
        "    .getOrCreate()"
      ],
      "metadata": {
        "id": "F-mxLaRmqQ62"
      },
      "execution_count": 3,
      "outputs": []
    },
    {
      "cell_type": "code",
      "source": [
        "# Example path to log file in Drive\n",
        "log_path = \"/content/drive/MyDrive/Colab Notebooks/Resources/http.log\""
      ],
      "metadata": {
        "id": "Y-cQF4Cq1pLd"
      },
      "execution_count": 4,
      "outputs": []
    },
    {
      "cell_type": "code",
      "source": [
        "http_logs_df = spark.read.text(log_path)\n",
        "http_logs_df.show(5, truncate=False)"
      ],
      "metadata": {
        "colab": {
          "base_uri": "https://localhost:8080/"
        },
        "id": "NloGC5ha147V",
        "outputId": "3f40eecd-6560-4b8a-e74c-1cb6302136bf"
      },
      "execution_count": 5,
      "outputs": [
        {
          "output_type": "stream",
          "name": "stdout",
          "text": [
            "+---------------------------------------------------------------------------------------------------------------------------------------------------------------------------------------------------------------------------------------------------------------------------+\n",
            "|value                                                                                                                                                                                                                                                                      |\n",
            "+---------------------------------------------------------------------------------------------------------------------------------------------------------------------------------------------------------------------------------------------------------------------------+\n",
            "|1331901000.000000\\tCHEt7z3AzG4gyCNgci\\t192.168.202.79\\t50465\\t192.168.229.251\\t80\\t1\\tHEAD\\t192.168.229.251\\t/DEASLog02.nsf\\t-\\tMozilla/5.0 (compatible; Nmap Scripting Engine; http://nmap.org/book/nse.html)\\t0\\t0\\t404\\tNot Found\\t-\\t-\\t-\\t(empty)\\t-\\t-\\t-\\t-\\t-\\t-\\t-|\n",
            "|1331901000.010000\\tCKnDAp2ohlvN6rpiXl\\t192.168.202.79\\t50467\\t192.168.229.251\\t80\\t1\\tHEAD\\t192.168.229.251\\t/DEASLog03.nsf\\t-\\tMozilla/5.0 (compatible; Nmap Scripting Engine; http://nmap.org/book/nse.html)\\t0\\t0\\t404\\tNot Found\\t-\\t-\\t-\\t(empty)\\t-\\t-\\t-\\t-\\t-\\t-\\t-|\n",
            "|1331901000.030000\\tCNTrjn42F3LB58MZH6\\t192.168.202.79\\t50469\\t192.168.229.251\\t80\\t1\\tHEAD\\t192.168.229.251\\t/DEASLog04.nsf\\t-\\tMozilla/5.0 (compatible; Nmap Scripting Engine; http://nmap.org/book/nse.html)\\t0\\t0\\t404\\tNot Found\\t-\\t-\\t-\\t(empty)\\t-\\t-\\t-\\t-\\t-\\t-\\t-|\n",
            "|1331901000.040000\\tC1D7mK1PlzKEnEyG03\\t192.168.202.79\\t50471\\t192.168.229.251\\t80\\t1\\tHEAD\\t192.168.229.251\\t/DEASLog05.nsf\\t-\\tMozilla/5.0 (compatible; Nmap Scripting Engine; http://nmap.org/book/nse.html)\\t0\\t0\\t404\\tNot Found\\t-\\t-\\t-\\t(empty)\\t-\\t-\\t-\\t-\\t-\\t-\\t-|\n",
            "|1331901000.050000\\tCGF1bVMyl9ALKI32l\\t192.168.202.79\\t50473\\t192.168.229.251\\t80\\t1\\tHEAD\\t192.168.229.251\\t/DEASLog.nsf\\t-\\tMozilla/5.0 (compatible; Nmap Scripting Engine; http://nmap.org/book/nse.html)\\t0\\t0\\t404\\tNot Found\\t-\\t-\\t-\\t(empty)\\t-\\t-\\t-\\t-\\t-\\t-\\t-   |\n",
            "+---------------------------------------------------------------------------------------------------------------------------------------------------------------------------------------------------------------------------------------------------------------------------+\n",
            "only showing top 5 rows\n",
            "\n"
          ]
        }
      ]
    },
    {
      "cell_type": "code",
      "source": [
        "# These are http logs and are tab-delimited, not the usual Apache/Nginx combined logs."
      ],
      "metadata": {
        "id": "gvV9R1c12OfE"
      },
      "execution_count": null,
      "outputs": []
    },
    {
      "cell_type": "code",
      "source": [
        "from pyspark.sql.functions import split, col\n",
        "\n",
        "# Split into columns by tab\n",
        "cols = [\n",
        "    \"timestamp\", \"session_id\", \"src_ip\", \"src_port\",\n",
        "    \"dst_ip\", \"dst_port\", \"connection_id\", \"method\",\n",
        "    \"host\", \"uri\", \"referrer\", \"user_agent\",\n",
        "    \"bytes_in\", \"bytes_out\", \"status_code\", \"status_msg\",\n",
        "    \"field1\", \"field2\", \"field3\", \"field4\",\n",
        "    \"field5\", \"field6\", \"field7\", \"field8\", \"field9\", \"field10\"\n",
        "]\n",
        "\n",
        "http_logs_parsed = http_logs_df.select([split(col(\"value\"), \"\\t\").getItem(i).alias(cols[i]) for i in range(len(cols))])\n",
        "\n",
        "http_logs_parsed.show(5, truncate=False)\n"
      ],
      "metadata": {
        "colab": {
          "base_uri": "https://localhost:8080/"
        },
        "id": "RcgI_SFG18vQ",
        "outputId": "f7160e74-45e2-41f2-a674-737ffcace703"
      },
      "execution_count": 7,
      "outputs": [
        {
          "output_type": "stream",
          "name": "stdout",
          "text": [
            "+-----------------+------------------+--------------+--------+---------------+--------+-------------+------+---------------+--------------+--------+------------------------------------------------------------------------------+--------+---------+-----------+----------+------+------+------+-------+------+------+------+------+------+-------+\n",
            "|timestamp        |session_id        |src_ip        |src_port|dst_ip         |dst_port|connection_id|method|host           |uri           |referrer|user_agent                                                                    |bytes_in|bytes_out|status_code|status_msg|field1|field2|field3|field4 |field5|field6|field7|field8|field9|field10|\n",
            "+-----------------+------------------+--------------+--------+---------------+--------+-------------+------+---------------+--------------+--------+------------------------------------------------------------------------------+--------+---------+-----------+----------+------+------+------+-------+------+------+------+------+------+-------+\n",
            "|1331901000.000000|CHEt7z3AzG4gyCNgci|192.168.202.79|50465   |192.168.229.251|80      |1            |HEAD  |192.168.229.251|/DEASLog02.nsf|-       |Mozilla/5.0 (compatible; Nmap Scripting Engine; http://nmap.org/book/nse.html)|0       |0        |404        |Not Found |-     |-     |-     |(empty)|-     |-     |-     |-     |-     |-      |\n",
            "|1331901000.010000|CKnDAp2ohlvN6rpiXl|192.168.202.79|50467   |192.168.229.251|80      |1            |HEAD  |192.168.229.251|/DEASLog03.nsf|-       |Mozilla/5.0 (compatible; Nmap Scripting Engine; http://nmap.org/book/nse.html)|0       |0        |404        |Not Found |-     |-     |-     |(empty)|-     |-     |-     |-     |-     |-      |\n",
            "|1331901000.030000|CNTrjn42F3LB58MZH6|192.168.202.79|50469   |192.168.229.251|80      |1            |HEAD  |192.168.229.251|/DEASLog04.nsf|-       |Mozilla/5.0 (compatible; Nmap Scripting Engine; http://nmap.org/book/nse.html)|0       |0        |404        |Not Found |-     |-     |-     |(empty)|-     |-     |-     |-     |-     |-      |\n",
            "|1331901000.040000|C1D7mK1PlzKEnEyG03|192.168.202.79|50471   |192.168.229.251|80      |1            |HEAD  |192.168.229.251|/DEASLog05.nsf|-       |Mozilla/5.0 (compatible; Nmap Scripting Engine; http://nmap.org/book/nse.html)|0       |0        |404        |Not Found |-     |-     |-     |(empty)|-     |-     |-     |-     |-     |-      |\n",
            "|1331901000.050000|CGF1bVMyl9ALKI32l |192.168.202.79|50473   |192.168.229.251|80      |1            |HEAD  |192.168.229.251|/DEASLog.nsf  |-       |Mozilla/5.0 (compatible; Nmap Scripting Engine; http://nmap.org/book/nse.html)|0       |0        |404        |Not Found |-     |-     |-     |(empty)|-     |-     |-     |-     |-     |-      |\n",
            "+-----------------+------------------+--------------+--------+---------------+--------+-------------+------+---------------+--------------+--------+------------------------------------------------------------------------------+--------+---------+-----------+----------+------+------+------+-------+------+------+------+------+------+-------+\n",
            "only showing top 5 rows\n",
            "\n"
          ]
        }
      ]
    },
    {
      "cell_type": "code",
      "source": [
        "# Tunnel logs\n",
        "log_path = \"/content/drive/MyDrive/Colab Notebooks/Resources/tunnel.log\"\n",
        "tunnel_logs_df = spark.read.text(log_path)\n",
        "tunnel_logs_df.show(5, truncate=False)"
      ],
      "metadata": {
        "colab": {
          "base_uri": "https://localhost:8080/"
        },
        "id": "ekYU1WfR2amF",
        "outputId": "224145fa-23fb-4e33-9656-cb956167c764"
      },
      "execution_count": 8,
      "outputs": [
        {
          "output_type": "stream",
          "name": "stdout",
          "text": [
            "+---------------------------------------------------------------------------------------------------------------------+\n",
            "|value                                                                                                                |\n",
            "+---------------------------------------------------------------------------------------------------------------------+\n",
            "|1331903907.840000\\tCAZ2pG3tEWcozhPPzi\\t192.168.202.110\\t60807\\t192.168.27.25\\t3544\\tTunnel::TEREDO\\tTunnel::DISCOVER |\n",
            "|1331903932.830000\\tCZVmMe12RoVbuz74u5\\t192.168.202.110\\t43126\\t192.168.27.102\\t3544\\tTunnel::TEREDO\\tTunnel::DISCOVER|\n",
            "|1331903967.840000\\tCAZ2pG3tEWcozhPPzi\\t192.168.202.110\\t60807\\t192.168.27.25\\t3544\\tTunnel::TEREDO\\tTunnel::CLOSE    |\n",
            "|1331903974.460000\\tCaAV5W3NRFhcBUqY8a\\t192.168.202.110\\t50625\\t192.168.27.152\\t3544\\tTunnel::TEREDO\\tTunnel::DISCOVER|\n",
            "|1331903979.820000\\tCKf4q51yEqO6jvaw66\\t192.168.202.110\\t44569\\t192.168.27.202\\t3544\\tTunnel::TEREDO\\tTunnel::DISCOVER|\n",
            "+---------------------------------------------------------------------------------------------------------------------+\n",
            "only showing top 5 rows\n",
            "\n"
          ]
        }
      ]
    },
    {
      "cell_type": "code",
      "source": [
        "# Tunnel log structure is So the structure is:timestamp, session_id, src_ip, src_port, dst_ip, dst_port, tunnel_type, tunnel_action\n",
        "from pyspark.sql.functions import split, col\n",
        "\n",
        "tunnel_cols = [\n",
        "    \"timestamp\", \"session_id\", \"src_ip\", \"src_port\",\n",
        "    \"dst_ip\", \"dst_port\", \"tunnel_type\", \"tunnel_action\"\n",
        "]\n",
        "\n",
        "tunnel_logs_parsed = tunnel_logs_df.select(\n",
        "    [split(col(\"value\"), \"\\t\").getItem(i).alias(tunnel_cols[i]) for i in range(len(tunnel_cols))]\n",
        ")\n",
        "\n",
        "tunnel_logs_parsed.show(5, truncate=False)"
      ],
      "metadata": {
        "colab": {
          "base_uri": "https://localhost:8080/"
        },
        "id": "5a_64mON3K1K",
        "outputId": "eda36937-9a6b-4028-d87d-3f0f612d5617"
      },
      "execution_count": 9,
      "outputs": [
        {
          "output_type": "stream",
          "name": "stdout",
          "text": [
            "+-----------------+------------------+---------------+--------+--------------+--------+--------------+----------------+\n",
            "|timestamp        |session_id        |src_ip         |src_port|dst_ip        |dst_port|tunnel_type   |tunnel_action   |\n",
            "+-----------------+------------------+---------------+--------+--------------+--------+--------------+----------------+\n",
            "|1331903907.840000|CAZ2pG3tEWcozhPPzi|192.168.202.110|60807   |192.168.27.25 |3544    |Tunnel::TEREDO|Tunnel::DISCOVER|\n",
            "|1331903932.830000|CZVmMe12RoVbuz74u5|192.168.202.110|43126   |192.168.27.102|3544    |Tunnel::TEREDO|Tunnel::DISCOVER|\n",
            "|1331903967.840000|CAZ2pG3tEWcozhPPzi|192.168.202.110|60807   |192.168.27.25 |3544    |Tunnel::TEREDO|Tunnel::CLOSE   |\n",
            "|1331903974.460000|CaAV5W3NRFhcBUqY8a|192.168.202.110|50625   |192.168.27.152|3544    |Tunnel::TEREDO|Tunnel::DISCOVER|\n",
            "|1331903979.820000|CKf4q51yEqO6jvaw66|192.168.202.110|44569   |192.168.27.202|3544    |Tunnel::TEREDO|Tunnel::DISCOVER|\n",
            "+-----------------+------------------+---------------+--------+--------------+--------+--------------+----------------+\n",
            "only showing top 5 rows\n",
            "\n"
          ]
        }
      ]
    },
    {
      "cell_type": "code",
      "source": [
        "# ssh logs\n",
        "log_path = \"/content/drive/MyDrive/Colab Notebooks/Resources/ssh.log\"\n",
        "ssh_logs_df = spark.read.text(log_path)\n",
        "ssh_logs_df.show(5, truncate=False)\n",
        "\n",
        "#These logs are having timestamp, session_id, src_ip, src_port, dst_ip, dst_port, ssh_event, status, and delimiter is tab space"
      ],
      "metadata": {
        "colab": {
          "base_uri": "https://localhost:8080/"
        },
        "id": "Q1MogXzt2taA",
        "outputId": "4ec8142c-cf39-41fc-c389-2ec09b056e97"
      },
      "execution_count": 10,
      "outputs": [
        {
          "output_type": "stream",
          "name": "stdout",
          "text": [
            "+-----------------------------------------------------------------------------------------------------------------------------------------------------------------------------+\n",
            "|value                                                                                                                                                                        |\n",
            "+-----------------------------------------------------------------------------------------------------------------------------------------------------------------------------+\n",
            "|1331901011.840000\\tCTHcOo3BARDOPDjYue\\t192.168.202.68\\t53633\\t192.168.28.254\\t22\\tfailure\\tINBOUND\\tSSH-2.0-OpenSSH_5.0\\tSSH-1.99-Cisco-1.25\\t-\\t-\\t-\\t-\\t-                  |\n",
            "|1331901030.210000\\tCBHpSz2Zi3rdKbAvwd\\t192.168.202.68\\t35820\\t192.168.23.254\\t22\\tfailure\\tINBOUND\\tSSH-2.0-OpenSSH_5.0\\tSSH-1.99-Cisco-1.25\\t-\\t-\\t-\\t-\\t-                  |\n",
            "|1331901032.030000\\tC2h6wz2S5MWTiAk6Hb\\t192.168.202.68\\t36254\\t192.168.26.254\\t22\\tfailure\\tINBOUND\\tSSH-2.0-OpenSSH_5.0\\tSSH-1.99-Cisco-1.25\\t-\\t-\\t-\\t-\\t-                  |\n",
            "|1331901034.340000\\tCeY76r1JXPbjJS8yKb\\t192.168.202.68\\t37764\\t192.168.27.102\\t22\\tfailure\\tINBOUND\\tSSH-2.0-OpenSSH_5.0\\tSSH-2.0-OpenSSH_5.8p1 Debian-1ubuntu3\\t-\\t-\\t-\\t-\\t-|\n",
            "|1331901041.920000\\tCPJHML3uGn4IV2MGWi\\t192.168.202.68\\t40244\\t192.168.27.101\\t22\\tfailure\\tINBOUND\\tSSH-2.0-OpenSSH_5.0\\tSSH-2.0-OpenSSH_5.8p1 Debian-7ubuntu1\\t-\\t-\\t-\\t-\\t-|\n",
            "+-----------------------------------------------------------------------------------------------------------------------------------------------------------------------------+\n",
            "only showing top 5 rows\n",
            "\n"
          ]
        }
      ]
    },
    {
      "cell_type": "code",
      "source": [
        "from pyspark.sql.functions import split, col\n",
        "\n",
        "ssh_cols = [\n",
        "    \"timestamp\", \"session_id\", \"src_ip\", \"src_port\",\n",
        "    \"dst_ip\", \"dst_port\", \"ssh_event\", \"status\"\n",
        "]\n",
        "\n",
        "ssh_logs_parsed = ssh_logs_df.select(\n",
        "    [split(col(\"value\"), \"\\t\").getItem(i).alias(ssh_cols[i]) for i in range(len(ssh_cols))]\n",
        ")\n",
        "\n",
        "ssh_logs_parsed.show(5, truncate=False)"
      ],
      "metadata": {
        "colab": {
          "base_uri": "https://localhost:8080/"
        },
        "id": "AXujSVOS2_0B",
        "outputId": "e1b7c592-abff-442f-bb7c-ac3ccab983fe"
      },
      "execution_count": 11,
      "outputs": [
        {
          "output_type": "stream",
          "name": "stdout",
          "text": [
            "+-----------------+------------------+--------------+--------+--------------+--------+---------+-------+\n",
            "|timestamp        |session_id        |src_ip        |src_port|dst_ip        |dst_port|ssh_event|status |\n",
            "+-----------------+------------------+--------------+--------+--------------+--------+---------+-------+\n",
            "|1331901011.840000|CTHcOo3BARDOPDjYue|192.168.202.68|53633   |192.168.28.254|22      |failure  |INBOUND|\n",
            "|1331901030.210000|CBHpSz2Zi3rdKbAvwd|192.168.202.68|35820   |192.168.23.254|22      |failure  |INBOUND|\n",
            "|1331901032.030000|C2h6wz2S5MWTiAk6Hb|192.168.202.68|36254   |192.168.26.254|22      |failure  |INBOUND|\n",
            "|1331901034.340000|CeY76r1JXPbjJS8yKb|192.168.202.68|37764   |192.168.27.102|22      |failure  |INBOUND|\n",
            "|1331901041.920000|CPJHML3uGn4IV2MGWi|192.168.202.68|40244   |192.168.27.101|22      |failure  |INBOUND|\n",
            "+-----------------+------------------+--------------+--------+--------------+--------+---------+-------+\n",
            "only showing top 5 rows\n",
            "\n"
          ]
        }
      ]
    }
  ]
}