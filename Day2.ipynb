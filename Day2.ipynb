{
  "nbformat": 4,
  "nbformat_minor": 0,
  "metadata": {
    "colab": {
      "provenance": []
    },
    "kernelspec": {
      "name": "python3",
      "display_name": "Python 3"
    },
    "language_info": {
      "name": "python"
    }
  },
  "cells": [
    {
      "cell_type": "code",
      "source": [
        "# Imports\n",
        "import pandas as pd\n",
        "import numpy as np\n",
        "from sklearn.model_selection import train_test_split\n",
        "from sklearn.preprocessing import StandardScaler, OneHotEncoder\n",
        "from sklearn.impute import SimpleImputer\n",
        "from sklearn.compose import ColumnTransformer\n",
        "from sklearn.pipeline import Pipeline\n",
        "\n",
        "import tensorflow as tf\n",
        "from tensorflow.keras import Sequential\n",
        "from tensorflow.keras.layers import Dense, Dropout\n",
        "\n",
        "from sklearn.metrics import classification_report, confusion_matrix, roc_auc_score"
      ],
      "metadata": {
        "id": "NOJ9Lhwb-z_h"
      },
      "execution_count": 1,
      "outputs": []
    },
    {
      "cell_type": "code",
      "source": [
        "from google.colab import drive\n",
        "drive.mount('/content/drive')"
      ],
      "metadata": {
        "colab": {
          "base_uri": "https://localhost:8080/"
        },
        "id": "QY28ZgsbJYWa",
        "outputId": "63620af5-4bfa-47f2-dd2b-6945d2e5fa20"
      },
      "execution_count": 2,
      "outputs": [
        {
          "output_type": "stream",
          "name": "stdout",
          "text": [
            "Mounted at /content/drive\n"
          ]
        }
      ]
    },
    {
      "cell_type": "code",
      "execution_count": 3,
      "metadata": {
        "id": "7PIBVoIf4MCq",
        "collapsed": true,
        "colab": {
          "base_uri": "https://localhost:8080/",
          "height": 417
        },
        "outputId": "c2b61622-a1cc-4f89-c197-8605aeca62e5"
      },
      "outputs": [
        {
          "output_type": "stream",
          "name": "stdout",
          "text": [
            "Final dataset shape: (10000, 17)\n"
          ]
        },
        {
          "output_type": "execute_result",
          "data": {
            "text/plain": [
              "  device_id device_type            os      user_id                username  \\\n",
              "0     D0403      Laptop  Ubuntu 22.04  USR_EMP0028   e_tifcs28@company.com   \n",
              "1     D0282     Desktop  Ubuntu 20.04  USR_EMP0055   e_hodhj55@company.com   \n",
              "2     D0298     Desktop    Windows 10  USR_EMP0182  e_necba182@company.com   \n",
              "3     D0229      Laptop  Ubuntu 22.04  USR_EMP0031   e_sfphk31@company.com   \n",
              "4     D0179     Desktop  Ubuntu 20.04  USR_EMP0193  e_ogtri193@company.com   \n",
              "\n",
              "    department            role  log_id            timestamp           src_ip  \\\n",
              "0           HR       Recruiter  T00001  2022-02-19 08:39:32  192.168.215.198   \n",
              "1    Marketing  SEO Specialist  T00002  2022-01-27 01:57:06    192.168.8.133   \n",
              "2      Finance      Accountant  T00003  2022-02-26 07:33:33  192.168.124.236   \n",
              "3  Engineering  Data Scientist  T00004  2022-01-13 17:40:05    192.168.197.6   \n",
              "4    Marketing  SEO Specialist  T00005  2022-01-26 17:49:33  192.168.241.180   \n",
              "\n",
              "         dst_ip protocol  port  bytes_sent  bytes_received  duration  \\\n",
              "0    10.0.241.5      SSH  22.0      6762.0          4230.0     23.31   \n",
              "1  10.0.126.225     SMTP  25.0      2749.0           521.0     32.80   \n",
              "2   10.0.129.94      SSH  22.0      5479.0          4067.0     49.70   \n",
              "3    10.0.3.140      SSH  22.0      3397.0          2030.0     68.11   \n",
              "4  10.0.237.144     SMTP  25.0      7370.0          5593.0     41.51   \n",
              "\n",
              "   is_anomaly  \n",
              "0           1  \n",
              "1           0  \n",
              "2           1  \n",
              "3           1  \n",
              "4           0  "
            ],
            "text/html": [
              "\n",
              "  <div id=\"df-0bbbd0c6-e781-4001-89a2-4f3f1899a58a\" class=\"colab-df-container\">\n",
              "    <div>\n",
              "<style scoped>\n",
              "    .dataframe tbody tr th:only-of-type {\n",
              "        vertical-align: middle;\n",
              "    }\n",
              "\n",
              "    .dataframe tbody tr th {\n",
              "        vertical-align: top;\n",
              "    }\n",
              "\n",
              "    .dataframe thead th {\n",
              "        text-align: right;\n",
              "    }\n",
              "</style>\n",
              "<table border=\"1\" class=\"dataframe\">\n",
              "  <thead>\n",
              "    <tr style=\"text-align: right;\">\n",
              "      <th></th>\n",
              "      <th>device_id</th>\n",
              "      <th>device_type</th>\n",
              "      <th>os</th>\n",
              "      <th>user_id</th>\n",
              "      <th>username</th>\n",
              "      <th>department</th>\n",
              "      <th>role</th>\n",
              "      <th>log_id</th>\n",
              "      <th>timestamp</th>\n",
              "      <th>src_ip</th>\n",
              "      <th>dst_ip</th>\n",
              "      <th>protocol</th>\n",
              "      <th>port</th>\n",
              "      <th>bytes_sent</th>\n",
              "      <th>bytes_received</th>\n",
              "      <th>duration</th>\n",
              "      <th>is_anomaly</th>\n",
              "    </tr>\n",
              "  </thead>\n",
              "  <tbody>\n",
              "    <tr>\n",
              "      <th>0</th>\n",
              "      <td>D0403</td>\n",
              "      <td>Laptop</td>\n",
              "      <td>Ubuntu 22.04</td>\n",
              "      <td>USR_EMP0028</td>\n",
              "      <td>e_tifcs28@company.com</td>\n",
              "      <td>HR</td>\n",
              "      <td>Recruiter</td>\n",
              "      <td>T00001</td>\n",
              "      <td>2022-02-19 08:39:32</td>\n",
              "      <td>192.168.215.198</td>\n",
              "      <td>10.0.241.5</td>\n",
              "      <td>SSH</td>\n",
              "      <td>22.0</td>\n",
              "      <td>6762.0</td>\n",
              "      <td>4230.0</td>\n",
              "      <td>23.31</td>\n",
              "      <td>1</td>\n",
              "    </tr>\n",
              "    <tr>\n",
              "      <th>1</th>\n",
              "      <td>D0282</td>\n",
              "      <td>Desktop</td>\n",
              "      <td>Ubuntu 20.04</td>\n",
              "      <td>USR_EMP0055</td>\n",
              "      <td>e_hodhj55@company.com</td>\n",
              "      <td>Marketing</td>\n",
              "      <td>SEO Specialist</td>\n",
              "      <td>T00002</td>\n",
              "      <td>2022-01-27 01:57:06</td>\n",
              "      <td>192.168.8.133</td>\n",
              "      <td>10.0.126.225</td>\n",
              "      <td>SMTP</td>\n",
              "      <td>25.0</td>\n",
              "      <td>2749.0</td>\n",
              "      <td>521.0</td>\n",
              "      <td>32.80</td>\n",
              "      <td>0</td>\n",
              "    </tr>\n",
              "    <tr>\n",
              "      <th>2</th>\n",
              "      <td>D0298</td>\n",
              "      <td>Desktop</td>\n",
              "      <td>Windows 10</td>\n",
              "      <td>USR_EMP0182</td>\n",
              "      <td>e_necba182@company.com</td>\n",
              "      <td>Finance</td>\n",
              "      <td>Accountant</td>\n",
              "      <td>T00003</td>\n",
              "      <td>2022-02-26 07:33:33</td>\n",
              "      <td>192.168.124.236</td>\n",
              "      <td>10.0.129.94</td>\n",
              "      <td>SSH</td>\n",
              "      <td>22.0</td>\n",
              "      <td>5479.0</td>\n",
              "      <td>4067.0</td>\n",
              "      <td>49.70</td>\n",
              "      <td>1</td>\n",
              "    </tr>\n",
              "    <tr>\n",
              "      <th>3</th>\n",
              "      <td>D0229</td>\n",
              "      <td>Laptop</td>\n",
              "      <td>Ubuntu 22.04</td>\n",
              "      <td>USR_EMP0031</td>\n",
              "      <td>e_sfphk31@company.com</td>\n",
              "      <td>Engineering</td>\n",
              "      <td>Data Scientist</td>\n",
              "      <td>T00004</td>\n",
              "      <td>2022-01-13 17:40:05</td>\n",
              "      <td>192.168.197.6</td>\n",
              "      <td>10.0.3.140</td>\n",
              "      <td>SSH</td>\n",
              "      <td>22.0</td>\n",
              "      <td>3397.0</td>\n",
              "      <td>2030.0</td>\n",
              "      <td>68.11</td>\n",
              "      <td>1</td>\n",
              "    </tr>\n",
              "    <tr>\n",
              "      <th>4</th>\n",
              "      <td>D0179</td>\n",
              "      <td>Desktop</td>\n",
              "      <td>Ubuntu 20.04</td>\n",
              "      <td>USR_EMP0193</td>\n",
              "      <td>e_ogtri193@company.com</td>\n",
              "      <td>Marketing</td>\n",
              "      <td>SEO Specialist</td>\n",
              "      <td>T00005</td>\n",
              "      <td>2022-01-26 17:49:33</td>\n",
              "      <td>192.168.241.180</td>\n",
              "      <td>10.0.237.144</td>\n",
              "      <td>SMTP</td>\n",
              "      <td>25.0</td>\n",
              "      <td>7370.0</td>\n",
              "      <td>5593.0</td>\n",
              "      <td>41.51</td>\n",
              "      <td>0</td>\n",
              "    </tr>\n",
              "  </tbody>\n",
              "</table>\n",
              "</div>\n",
              "    <div class=\"colab-df-buttons\">\n",
              "\n",
              "  <div class=\"colab-df-container\">\n",
              "    <button class=\"colab-df-convert\" onclick=\"convertToInteractive('df-0bbbd0c6-e781-4001-89a2-4f3f1899a58a')\"\n",
              "            title=\"Convert this dataframe to an interactive table.\"\n",
              "            style=\"display:none;\">\n",
              "\n",
              "  <svg xmlns=\"http://www.w3.org/2000/svg\" height=\"24px\" viewBox=\"0 -960 960 960\">\n",
              "    <path d=\"M120-120v-720h720v720H120Zm60-500h600v-160H180v160Zm220 220h160v-160H400v160Zm0 220h160v-160H400v160ZM180-400h160v-160H180v160Zm440 0h160v-160H620v160ZM180-180h160v-160H180v160Zm440 0h160v-160H620v160Z\"/>\n",
              "  </svg>\n",
              "    </button>\n",
              "\n",
              "  <style>\n",
              "    .colab-df-container {\n",
              "      display:flex;\n",
              "      gap: 12px;\n",
              "    }\n",
              "\n",
              "    .colab-df-convert {\n",
              "      background-color: #E8F0FE;\n",
              "      border: none;\n",
              "      border-radius: 50%;\n",
              "      cursor: pointer;\n",
              "      display: none;\n",
              "      fill: #1967D2;\n",
              "      height: 32px;\n",
              "      padding: 0 0 0 0;\n",
              "      width: 32px;\n",
              "    }\n",
              "\n",
              "    .colab-df-convert:hover {\n",
              "      background-color: #E2EBFA;\n",
              "      box-shadow: 0px 1px 2px rgba(60, 64, 67, 0.3), 0px 1px 3px 1px rgba(60, 64, 67, 0.15);\n",
              "      fill: #174EA6;\n",
              "    }\n",
              "\n",
              "    .colab-df-buttons div {\n",
              "      margin-bottom: 4px;\n",
              "    }\n",
              "\n",
              "    [theme=dark] .colab-df-convert {\n",
              "      background-color: #3B4455;\n",
              "      fill: #D2E3FC;\n",
              "    }\n",
              "\n",
              "    [theme=dark] .colab-df-convert:hover {\n",
              "      background-color: #434B5C;\n",
              "      box-shadow: 0px 1px 3px 1px rgba(0, 0, 0, 0.15);\n",
              "      filter: drop-shadow(0px 1px 2px rgba(0, 0, 0, 0.3));\n",
              "      fill: #FFFFFF;\n",
              "    }\n",
              "  </style>\n",
              "\n",
              "    <script>\n",
              "      const buttonEl =\n",
              "        document.querySelector('#df-0bbbd0c6-e781-4001-89a2-4f3f1899a58a button.colab-df-convert');\n",
              "      buttonEl.style.display =\n",
              "        google.colab.kernel.accessAllowed ? 'block' : 'none';\n",
              "\n",
              "      async function convertToInteractive(key) {\n",
              "        const element = document.querySelector('#df-0bbbd0c6-e781-4001-89a2-4f3f1899a58a');\n",
              "        const dataTable =\n",
              "          await google.colab.kernel.invokeFunction('convertToInteractive',\n",
              "                                                    [key], {});\n",
              "        if (!dataTable) return;\n",
              "\n",
              "        const docLinkHtml = 'Like what you see? Visit the ' +\n",
              "          '<a target=\"_blank\" href=https://colab.research.google.com/notebooks/data_table.ipynb>data table notebook</a>'\n",
              "          + ' to learn more about interactive tables.';\n",
              "        element.innerHTML = '';\n",
              "        dataTable['output_type'] = 'display_data';\n",
              "        await google.colab.output.renderOutput(dataTable, element);\n",
              "        const docLink = document.createElement('div');\n",
              "        docLink.innerHTML = docLinkHtml;\n",
              "        element.appendChild(docLink);\n",
              "      }\n",
              "    </script>\n",
              "  </div>\n",
              "\n",
              "\n",
              "    <div id=\"df-a110876b-5e9e-46f6-b216-e78dff8b55fd\">\n",
              "      <button class=\"colab-df-quickchart\" onclick=\"quickchart('df-a110876b-5e9e-46f6-b216-e78dff8b55fd')\"\n",
              "                title=\"Suggest charts\"\n",
              "                style=\"display:none;\">\n",
              "\n",
              "<svg xmlns=\"http://www.w3.org/2000/svg\" height=\"24px\"viewBox=\"0 0 24 24\"\n",
              "     width=\"24px\">\n",
              "    <g>\n",
              "        <path d=\"M19 3H5c-1.1 0-2 .9-2 2v14c0 1.1.9 2 2 2h14c1.1 0 2-.9 2-2V5c0-1.1-.9-2-2-2zM9 17H7v-7h2v7zm4 0h-2V7h2v10zm4 0h-2v-4h2v4z\"/>\n",
              "    </g>\n",
              "</svg>\n",
              "      </button>\n",
              "\n",
              "<style>\n",
              "  .colab-df-quickchart {\n",
              "      --bg-color: #E8F0FE;\n",
              "      --fill-color: #1967D2;\n",
              "      --hover-bg-color: #E2EBFA;\n",
              "      --hover-fill-color: #174EA6;\n",
              "      --disabled-fill-color: #AAA;\n",
              "      --disabled-bg-color: #DDD;\n",
              "  }\n",
              "\n",
              "  [theme=dark] .colab-df-quickchart {\n",
              "      --bg-color: #3B4455;\n",
              "      --fill-color: #D2E3FC;\n",
              "      --hover-bg-color: #434B5C;\n",
              "      --hover-fill-color: #FFFFFF;\n",
              "      --disabled-bg-color: #3B4455;\n",
              "      --disabled-fill-color: #666;\n",
              "  }\n",
              "\n",
              "  .colab-df-quickchart {\n",
              "    background-color: var(--bg-color);\n",
              "    border: none;\n",
              "    border-radius: 50%;\n",
              "    cursor: pointer;\n",
              "    display: none;\n",
              "    fill: var(--fill-color);\n",
              "    height: 32px;\n",
              "    padding: 0;\n",
              "    width: 32px;\n",
              "  }\n",
              "\n",
              "  .colab-df-quickchart:hover {\n",
              "    background-color: var(--hover-bg-color);\n",
              "    box-shadow: 0 1px 2px rgba(60, 64, 67, 0.3), 0 1px 3px 1px rgba(60, 64, 67, 0.15);\n",
              "    fill: var(--button-hover-fill-color);\n",
              "  }\n",
              "\n",
              "  .colab-df-quickchart-complete:disabled,\n",
              "  .colab-df-quickchart-complete:disabled:hover {\n",
              "    background-color: var(--disabled-bg-color);\n",
              "    fill: var(--disabled-fill-color);\n",
              "    box-shadow: none;\n",
              "  }\n",
              "\n",
              "  .colab-df-spinner {\n",
              "    border: 2px solid var(--fill-color);\n",
              "    border-color: transparent;\n",
              "    border-bottom-color: var(--fill-color);\n",
              "    animation:\n",
              "      spin 1s steps(1) infinite;\n",
              "  }\n",
              "\n",
              "  @keyframes spin {\n",
              "    0% {\n",
              "      border-color: transparent;\n",
              "      border-bottom-color: var(--fill-color);\n",
              "      border-left-color: var(--fill-color);\n",
              "    }\n",
              "    20% {\n",
              "      border-color: transparent;\n",
              "      border-left-color: var(--fill-color);\n",
              "      border-top-color: var(--fill-color);\n",
              "    }\n",
              "    30% {\n",
              "      border-color: transparent;\n",
              "      border-left-color: var(--fill-color);\n",
              "      border-top-color: var(--fill-color);\n",
              "      border-right-color: var(--fill-color);\n",
              "    }\n",
              "    40% {\n",
              "      border-color: transparent;\n",
              "      border-right-color: var(--fill-color);\n",
              "      border-top-color: var(--fill-color);\n",
              "    }\n",
              "    60% {\n",
              "      border-color: transparent;\n",
              "      border-right-color: var(--fill-color);\n",
              "    }\n",
              "    80% {\n",
              "      border-color: transparent;\n",
              "      border-right-color: var(--fill-color);\n",
              "      border-bottom-color: var(--fill-color);\n",
              "    }\n",
              "    90% {\n",
              "      border-color: transparent;\n",
              "      border-bottom-color: var(--fill-color);\n",
              "    }\n",
              "  }\n",
              "</style>\n",
              "\n",
              "      <script>\n",
              "        async function quickchart(key) {\n",
              "          const quickchartButtonEl =\n",
              "            document.querySelector('#' + key + ' button');\n",
              "          quickchartButtonEl.disabled = true;  // To prevent multiple clicks.\n",
              "          quickchartButtonEl.classList.add('colab-df-spinner');\n",
              "          try {\n",
              "            const charts = await google.colab.kernel.invokeFunction(\n",
              "                'suggestCharts', [key], {});\n",
              "          } catch (error) {\n",
              "            console.error('Error during call to suggestCharts:', error);\n",
              "          }\n",
              "          quickchartButtonEl.classList.remove('colab-df-spinner');\n",
              "          quickchartButtonEl.classList.add('colab-df-quickchart-complete');\n",
              "        }\n",
              "        (() => {\n",
              "          let quickchartButtonEl =\n",
              "            document.querySelector('#df-a110876b-5e9e-46f6-b216-e78dff8b55fd button');\n",
              "          quickchartButtonEl.style.display =\n",
              "            google.colab.kernel.accessAllowed ? 'block' : 'none';\n",
              "        })();\n",
              "      </script>\n",
              "    </div>\n",
              "\n",
              "    </div>\n",
              "  </div>\n"
            ],
            "application/vnd.google.colaboratory.intrinsic+json": {
              "type": "dataframe",
              "variable_name": "df",
              "summary": "{\n  \"name\": \"df\",\n  \"rows\": 10000,\n  \"fields\": [\n    {\n      \"column\": \"device_id\",\n      \"properties\": {\n        \"dtype\": \"category\",\n        \"num_unique_values\": 500,\n        \"samples\": [\n          \"D0102\",\n          \"D0411\",\n          \"D0092\"\n        ],\n        \"semantic_type\": \"\",\n        \"description\": \"\"\n      }\n    },\n    {\n      \"column\": \"device_type\",\n      \"properties\": {\n        \"dtype\": \"category\",\n        \"num_unique_values\": 4,\n        \"samples\": [\n          \"Desktop\",\n          \"Server\",\n          \"Laptop\"\n        ],\n        \"semantic_type\": \"\",\n        \"description\": \"\"\n      }\n    },\n    {\n      \"column\": \"os\",\n      \"properties\": {\n        \"dtype\": \"category\",\n        \"num_unique_values\": 5,\n        \"samples\": [\n          \"Ubuntu 20.04\",\n          \"Windows 11\",\n          \"Windows 10\"\n        ],\n        \"semantic_type\": \"\",\n        \"description\": \"\"\n      }\n    },\n    {\n      \"column\": \"user_id\",\n      \"properties\": {\n        \"dtype\": \"category\",\n        \"num_unique_values\": 200,\n        \"samples\": [\n          \"USR_EMP0082\",\n          \"USR_EMP0084\",\n          \"USR_EMP0011\"\n        ],\n        \"semantic_type\": \"\",\n        \"description\": \"\"\n      }\n    },\n    {\n      \"column\": \"username\",\n      \"properties\": {\n        \"dtype\": \"category\",\n        \"num_unique_values\": 200,\n        \"samples\": [\n          \"e_iiini82@company.com\",\n          \"e_anjot84@company.com\",\n          \"e_ieftf11@company.com\"\n        ],\n        \"semantic_type\": \"\",\n        \"description\": \"\"\n      }\n    },\n    {\n      \"column\": \"department\",\n      \"properties\": {\n        \"dtype\": \"category\",\n        \"num_unique_values\": 6,\n        \"samples\": [\n          \"HR\",\n          \"Marketing\",\n          \"Sales\"\n        ],\n        \"semantic_type\": \"\",\n        \"description\": \"\"\n      }\n    },\n    {\n      \"column\": \"role\",\n      \"properties\": {\n        \"dtype\": \"category\",\n        \"num_unique_values\": 16,\n        \"samples\": [\n          \"Recruiter\",\n          \"SEO Specialist\",\n          \"SysAdmin\"\n        ],\n        \"semantic_type\": \"\",\n        \"description\": \"\"\n      }\n    },\n    {\n      \"column\": \"log_id\",\n      \"properties\": {\n        \"dtype\": \"string\",\n        \"num_unique_values\": 9894,\n        \"samples\": [\n          \"T06547\",\n          \"T01515\",\n          \"T02248\"\n        ],\n        \"semantic_type\": \"\",\n        \"description\": \"\"\n      }\n    },\n    {\n      \"column\": \"timestamp\",\n      \"properties\": {\n        \"dtype\": \"object\",\n        \"num_unique_values\": 9991,\n        \"samples\": [\n          \"2022-02-27 05:19:57\",\n          \"2022-01-25 16:33:01\",\n          \"2022-01-20 17:52:45\"\n        ],\n        \"semantic_type\": \"\",\n        \"description\": \"\"\n      }\n    },\n    {\n      \"column\": \"src_ip\",\n      \"properties\": {\n        \"dtype\": \"string\",\n        \"num_unique_values\": 9243,\n        \"samples\": [\n          \"192.168.19.111\",\n          \"192.168.134.103\",\n          \"192.168.77.131\"\n        ],\n        \"semantic_type\": \"\",\n        \"description\": \"\"\n      }\n    },\n    {\n      \"column\": \"dst_ip\",\n      \"properties\": {\n        \"dtype\": \"string\",\n        \"num_unique_values\": 9255,\n        \"samples\": [\n          \"10.0.67.209\",\n          \"10.0.87.40\",\n          \"10.0.224.199\"\n        ],\n        \"semantic_type\": \"\",\n        \"description\": \"\"\n      }\n    },\n    {\n      \"column\": \"protocol\",\n      \"properties\": {\n        \"dtype\": \"category\",\n        \"num_unique_values\": 6,\n        \"samples\": [\n          \"SSH\",\n          \"SMTP\",\n          \"RDP\"\n        ],\n        \"semantic_type\": \"\",\n        \"description\": \"\"\n      }\n    },\n    {\n      \"column\": \"port\",\n      \"properties\": {\n        \"dtype\": \"number\",\n        \"std\": 1224.8041791367782,\n        \"min\": 21.0,\n        \"max\": 3389.0,\n        \"num_unique_values\": 6,\n        \"samples\": [\n          22.0,\n          25.0,\n          3389.0\n        ],\n        \"semantic_type\": \"\",\n        \"description\": \"\"\n      }\n    },\n    {\n      \"column\": \"bytes_sent\",\n      \"properties\": {\n        \"dtype\": \"number\",\n        \"std\": 2854.8805584121756,\n        \"min\": 100.0,\n        \"max\": 10000.0,\n        \"num_unique_values\": 6245,\n        \"samples\": [\n          1433.0,\n          7480.0,\n          8848.0\n        ],\n        \"semantic_type\": \"\",\n        \"description\": \"\"\n      }\n    },\n    {\n      \"column\": \"bytes_received\",\n      \"properties\": {\n        \"dtype\": \"number\",\n        \"std\": 2849.4978027132806,\n        \"min\": 100.0,\n        \"max\": 10000.0,\n        \"num_unique_values\": 6273,\n        \"samples\": [\n          7976.0,\n          3449.0,\n          831.0\n        ],\n        \"semantic_type\": \"\",\n        \"description\": \"\"\n      }\n    },\n    {\n      \"column\": \"duration\",\n      \"properties\": {\n        \"dtype\": \"number\",\n        \"std\": 34.544199967242,\n        \"min\": 0.13,\n        \"max\": 119.99,\n        \"num_unique_values\": 6762,\n        \"samples\": [\n          113.21,\n          52.7,\n          39.74\n        ],\n        \"semantic_type\": \"\",\n        \"description\": \"\"\n      }\n    },\n    {\n      \"column\": \"is_anomaly\",\n      \"properties\": {\n        \"dtype\": \"number\",\n        \"std\": 0,\n        \"min\": 0,\n        \"max\": 1,\n        \"num_unique_values\": 2,\n        \"samples\": [\n          0,\n          1\n        ],\n        \"semantic_type\": \"\",\n        \"description\": \"\"\n      }\n    }\n  ]\n}"
            }
          },
          "metadata": {},
          "execution_count": 3
        }
      ],
      "source": [
        "# Load CSVs\n",
        "users = pd.read_csv(\"/content/drive/MyDrive/Colab Notebooks/Resources/users.csv\")\n",
        "devices = pd.read_csv(\"/content/drive/MyDrive/Colab Notebooks/Resources/devices.csv\")\n",
        "traffic = pd.read_csv(\"/content/drive/MyDrive/Colab Notebooks/Resources/network_traffic.csv\")\n",
        "\n",
        "# Merge user info into traffic\n",
        "df = users.merge(traffic, on=\"user_id\", how=\"right\")\n",
        "\n",
        "# Merge device info into traffic\n",
        "df = devices.merge(df, on=\"device_id\", how=\"right\")\n",
        "\n",
        "print(\"Final dataset shape:\", df.shape)\n",
        "df.head()\n"
      ]
    },
    {
      "cell_type": "markdown",
      "source": [
        "### Identifiers (should drop):\n",
        "\n",
        "- log_id → just a row identifier, no predictive power.\n",
        "\n",
        "- user_id, device_id, username → identifiers; if we leave them, the model may just memorize instead of generalizing.\n",
        "(But note: user_id/device_id are already represented through their categorical attributes: department, role, device_type, os.)\n",
        "\n",
        "### IPs (optional drop):\n",
        "\n",
        "- src_ip, dst_ip → high-cardinality, nearly unique in your logs. Without network topology encoding, they’ll add noise. Better to drop for now.\n",
        "\n",
        "### Retained Features:\n",
        "\n",
        "- protocol, port, bytes_sent, bytes_receive, duration, department, role, device_type, os, and the engineered hour of day (we’ll create in next step).\n",
        "\n",
        "### is_anomaly → target column."
      ],
      "metadata": {
        "id": "aduy68EN8Sbk"
      }
    },
    {
      "cell_type": "code",
      "source": [
        "# @title\n",
        "# Drop columns\n",
        "drop_cols = [\"log_id\", \"user_id\", \"device_id\", \"username\", \"src_ip\", \"dst_ip\"]\n",
        "\n",
        "df = df.drop(columns=drop_cols)\n",
        "\n",
        "print(\"Remaining columns:\", df.columns.tolist())\n"
      ],
      "metadata": {
        "id": "Pl-0N69a7lJP",
        "colab": {
          "base_uri": "https://localhost:8080/"
        },
        "outputId": "eb213b55-9768-463f-dabb-0cfeadba2f74"
      },
      "execution_count": 4,
      "outputs": [
        {
          "output_type": "stream",
          "name": "stdout",
          "text": [
            "Remaining columns: ['device_type', 'os', 'department', 'role', 'timestamp', 'protocol', 'port', 'bytes_sent', 'bytes_received', 'duration', 'is_anomaly']\n"
          ]
        }
      ]
    },
    {
      "cell_type": "code",
      "source": [
        "# @title\n",
        "# Since the hour of day might indicate the anomalous transaction, we'll retain only hour of the day from timestamp. Other parts (date, minute, second) don’t generalize well across datasets.\n",
        "\n",
        "# Ensure timestamp is parsed correctly\n",
        "df[\"timestamp\"] = pd.to_datetime(df[\"timestamp\"], errors=\"coerce\")\n",
        "\n",
        "# Extract hour of day (0–23)\n",
        "df[\"hour\"] = df[\"timestamp\"].dt.hour\n",
        "\n",
        "print(df[[\"timestamp\", \"hour\"]].head())\n"
      ],
      "metadata": {
        "id": "cYyzoJyi8xBy",
        "colab": {
          "base_uri": "https://localhost:8080/"
        },
        "outputId": "cfbeab7f-4dee-4ae8-ef8a-0ef5387307d2"
      },
      "execution_count": 5,
      "outputs": [
        {
          "output_type": "stream",
          "name": "stdout",
          "text": [
            "            timestamp  hour\n",
            "0 2022-02-19 08:39:32     8\n",
            "1 2022-01-27 01:57:06     1\n",
            "2 2022-02-26 07:33:33     7\n",
            "3 2022-01-13 17:40:05    17\n",
            "4 2022-01-26 17:49:33    17\n"
          ]
        }
      ]
    },
    {
      "cell_type": "code",
      "source": [
        "# @title\n",
        "# Feature Engineering Strategy for Numerical Features : scale them either minmax or standarization - start with StandardScaler.\n",
        "# Strategy for Categorical Features : encode them with OHE or Embeddings - The existing categories are too less in quantity for embeddings to really work\n",
        "\n",
        "# Identify feature groups\n",
        "num_cols = [\"bytes_sent\", \"bytes_received\", \"duration\", \"hour\"]\n",
        "cat_cols = [\"protocol\", \"port\", \"department\", \"role\", \"device_type\", \"os\"]\n",
        "\n",
        "# Imputers\n",
        "\n",
        "numeric_transformer = Pipeline(steps=[(\"imputer\", SimpleImputer(strategy=\"median\")),\n",
        "                                      (\"scaler\", StandardScaler())])\n",
        "\n",
        "categorical_transformer = Pipeline(steps=[(\"imputer\", SimpleImputer(strategy=\"most_frequent\")),\n",
        "                                          (\"onehot\", OneHotEncoder(handle_unknown=\"ignore\"))])\n",
        "\n",
        "# Preprocessing pipeline\n",
        "preprocessor = ColumnTransformer(\n",
        "    transformers=[(\"num\", numeric_transformer, num_cols),\n",
        "                  (\"cat\", categorical_transformer, cat_cols)])\n",
        "\n",
        "\n",
        "X = df.drop(columns=[\"is_anomaly\", \"timestamp\"])\n",
        "y = df[\"is_anomaly\"].astype(int).values\n"
      ],
      "metadata": {
        "id": "LPwRR7wy-TxS"
      },
      "execution_count": 6,
      "outputs": []
    },
    {
      "cell_type": "code",
      "source": [
        "# @title\n",
        "# Info\n",
        "# In Deep Learning, embeddings are a better way of extracting more meaningful info from them But the limited number of options in each categorical column makes pre-trained embeddings inefficient for the purpose\n",
        "# Trainable embeddings can be a point of experimentation"
      ],
      "metadata": {
        "id": "8eG8DuuYLa4O"
      },
      "execution_count": null,
      "outputs": []
    },
    {
      "cell_type": "code",
      "source": [
        "# @title\n",
        "# Split data\n",
        "\n",
        "X = df.drop(columns=[\"is_anomaly\", \"timestamp\"])\n",
        "y = df[\"is_anomaly\"].astype(int).values\n",
        "\n",
        "X_train, X_temp, y_train, y_temp = train_test_split(X, y, test_size=0.3, stratify=y, random_state=42)\n",
        "X_val, X_test, y_val, y_test = train_test_split(X_temp, y_temp, test_size=0.5, stratify=y_temp, random_state=42)\n"
      ],
      "metadata": {
        "id": "vwhdZ0kvLaLK"
      },
      "execution_count": 7,
      "outputs": []
    },
    {
      "cell_type": "code",
      "source": [
        "# @title\n",
        "# Fitting Pre-Processor\n",
        "X_train = preprocessor.fit_transform(X_train)\n",
        "X_val = preprocessor.transform(X_val)\n",
        "X_test = preprocessor.transform(X_test)\n",
        "\n",
        "print(\"Train shape:\", X_train.shape)\n",
        "print(\"Val shape:\", X_val.shape)\n",
        "print(\"Test shape:\", X_test.shape)"
      ],
      "metadata": {
        "id": "sFM8v3CROYX0",
        "colab": {
          "base_uri": "https://localhost:8080/"
        },
        "outputId": "19b5f49c-ba12-47f8-aeb9-c030473a3552"
      },
      "execution_count": 8,
      "outputs": [
        {
          "output_type": "stream",
          "name": "stdout",
          "text": [
            "Train shape: (7000, 47)\n",
            "Val shape: (1500, 47)\n",
            "Test shape: (1500, 47)\n"
          ]
        }
      ]
    },
    {
      "cell_type": "code",
      "source": [
        "# @title\n",
        "# Build and compile ANN model\n",
        "model = Sequential([Dense(128, activation=\"relu\", input_shape=(X_train.shape[1],)),\n",
        "                    Dropout(0.3),\n",
        "                    Dense(64, activation=\"relu\"),\n",
        "                    Dropout(0.2),\n",
        "                    Dense(1, activation=\"sigmoid\")])\n",
        "\n",
        "model.compile(optimizer=\"adam\",\n",
        "              loss=\"binary_crossentropy\",\n",
        "              metrics=[\"accuracy\", tf.keras.metrics.AUC(name=\"auc\"),\n",
        "                       tf.keras.metrics.Precision(name=\"precision\"),\n",
        "                       tf.keras.metrics.Recall(name=\"recall\")])\n",
        "\n",
        "model.summary()\n"
      ],
      "metadata": {
        "id": "b54_Ge8M_1SK",
        "collapsed": true,
        "colab": {
          "base_uri": "https://localhost:8080/",
          "height": 344
        },
        "outputId": "85a173cb-7995-4d3a-a905-77bb05cfb2ae"
      },
      "execution_count": 9,
      "outputs": [
        {
          "output_type": "stream",
          "name": "stderr",
          "text": [
            "/usr/local/lib/python3.12/dist-packages/keras/src/layers/core/dense.py:93: UserWarning: Do not pass an `input_shape`/`input_dim` argument to a layer. When using Sequential models, prefer using an `Input(shape)` object as the first layer in the model instead.\n",
            "  super().__init__(activity_regularizer=activity_regularizer, **kwargs)\n"
          ]
        },
        {
          "output_type": "display_data",
          "data": {
            "text/plain": [
              "\u001b[1mModel: \"sequential\"\u001b[0m\n"
            ],
            "text/html": [
              "<pre style=\"white-space:pre;overflow-x:auto;line-height:normal;font-family:Menlo,'DejaVu Sans Mono',consolas,'Courier New',monospace\"><span style=\"font-weight: bold\">Model: \"sequential\"</span>\n",
              "</pre>\n"
            ]
          },
          "metadata": {}
        },
        {
          "output_type": "display_data",
          "data": {
            "text/plain": [
              "┏━━━━━━━━━━━━━━━━━━━━━━━━━━━━━━━━━┳━━━━━━━━━━━━━━━━━━━━━━━━┳━━━━━━━━━━━━━━━┓\n",
              "┃\u001b[1m \u001b[0m\u001b[1mLayer (type)                   \u001b[0m\u001b[1m \u001b[0m┃\u001b[1m \u001b[0m\u001b[1mOutput Shape          \u001b[0m\u001b[1m \u001b[0m┃\u001b[1m \u001b[0m\u001b[1m      Param #\u001b[0m\u001b[1m \u001b[0m┃\n",
              "┡━━━━━━━━━━━━━━━━━━━━━━━━━━━━━━━━━╇━━━━━━━━━━━━━━━━━━━━━━━━╇━━━━━━━━━━━━━━━┩\n",
              "│ dense (\u001b[38;5;33mDense\u001b[0m)                   │ (\u001b[38;5;45mNone\u001b[0m, \u001b[38;5;34m128\u001b[0m)            │         \u001b[38;5;34m6,144\u001b[0m │\n",
              "├─────────────────────────────────┼────────────────────────┼───────────────┤\n",
              "│ dropout (\u001b[38;5;33mDropout\u001b[0m)               │ (\u001b[38;5;45mNone\u001b[0m, \u001b[38;5;34m128\u001b[0m)            │             \u001b[38;5;34m0\u001b[0m │\n",
              "├─────────────────────────────────┼────────────────────────┼───────────────┤\n",
              "│ dense_1 (\u001b[38;5;33mDense\u001b[0m)                 │ (\u001b[38;5;45mNone\u001b[0m, \u001b[38;5;34m64\u001b[0m)             │         \u001b[38;5;34m8,256\u001b[0m │\n",
              "├─────────────────────────────────┼────────────────────────┼───────────────┤\n",
              "│ dropout_1 (\u001b[38;5;33mDropout\u001b[0m)             │ (\u001b[38;5;45mNone\u001b[0m, \u001b[38;5;34m64\u001b[0m)             │             \u001b[38;5;34m0\u001b[0m │\n",
              "├─────────────────────────────────┼────────────────────────┼───────────────┤\n",
              "│ dense_2 (\u001b[38;5;33mDense\u001b[0m)                 │ (\u001b[38;5;45mNone\u001b[0m, \u001b[38;5;34m1\u001b[0m)              │            \u001b[38;5;34m65\u001b[0m │\n",
              "└─────────────────────────────────┴────────────────────────┴───────────────┘\n"
            ],
            "text/html": [
              "<pre style=\"white-space:pre;overflow-x:auto;line-height:normal;font-family:Menlo,'DejaVu Sans Mono',consolas,'Courier New',monospace\">┏━━━━━━━━━━━━━━━━━━━━━━━━━━━━━━━━━┳━━━━━━━━━━━━━━━━━━━━━━━━┳━━━━━━━━━━━━━━━┓\n",
              "┃<span style=\"font-weight: bold\"> Layer (type)                    </span>┃<span style=\"font-weight: bold\"> Output Shape           </span>┃<span style=\"font-weight: bold\">       Param # </span>┃\n",
              "┡━━━━━━━━━━━━━━━━━━━━━━━━━━━━━━━━━╇━━━━━━━━━━━━━━━━━━━━━━━━╇━━━━━━━━━━━━━━━┩\n",
              "│ dense (<span style=\"color: #0087ff; text-decoration-color: #0087ff\">Dense</span>)                   │ (<span style=\"color: #00d7ff; text-decoration-color: #00d7ff\">None</span>, <span style=\"color: #00af00; text-decoration-color: #00af00\">128</span>)            │         <span style=\"color: #00af00; text-decoration-color: #00af00\">6,144</span> │\n",
              "├─────────────────────────────────┼────────────────────────┼───────────────┤\n",
              "│ dropout (<span style=\"color: #0087ff; text-decoration-color: #0087ff\">Dropout</span>)               │ (<span style=\"color: #00d7ff; text-decoration-color: #00d7ff\">None</span>, <span style=\"color: #00af00; text-decoration-color: #00af00\">128</span>)            │             <span style=\"color: #00af00; text-decoration-color: #00af00\">0</span> │\n",
              "├─────────────────────────────────┼────────────────────────┼───────────────┤\n",
              "│ dense_1 (<span style=\"color: #0087ff; text-decoration-color: #0087ff\">Dense</span>)                 │ (<span style=\"color: #00d7ff; text-decoration-color: #00d7ff\">None</span>, <span style=\"color: #00af00; text-decoration-color: #00af00\">64</span>)             │         <span style=\"color: #00af00; text-decoration-color: #00af00\">8,256</span> │\n",
              "├─────────────────────────────────┼────────────────────────┼───────────────┤\n",
              "│ dropout_1 (<span style=\"color: #0087ff; text-decoration-color: #0087ff\">Dropout</span>)             │ (<span style=\"color: #00d7ff; text-decoration-color: #00d7ff\">None</span>, <span style=\"color: #00af00; text-decoration-color: #00af00\">64</span>)             │             <span style=\"color: #00af00; text-decoration-color: #00af00\">0</span> │\n",
              "├─────────────────────────────────┼────────────────────────┼───────────────┤\n",
              "│ dense_2 (<span style=\"color: #0087ff; text-decoration-color: #0087ff\">Dense</span>)                 │ (<span style=\"color: #00d7ff; text-decoration-color: #00d7ff\">None</span>, <span style=\"color: #00af00; text-decoration-color: #00af00\">1</span>)              │            <span style=\"color: #00af00; text-decoration-color: #00af00\">65</span> │\n",
              "└─────────────────────────────────┴────────────────────────┴───────────────┘\n",
              "</pre>\n"
            ]
          },
          "metadata": {}
        },
        {
          "output_type": "display_data",
          "data": {
            "text/plain": [
              "\u001b[1m Total params: \u001b[0m\u001b[38;5;34m14,465\u001b[0m (56.50 KB)\n"
            ],
            "text/html": [
              "<pre style=\"white-space:pre;overflow-x:auto;line-height:normal;font-family:Menlo,'DejaVu Sans Mono',consolas,'Courier New',monospace\"><span style=\"font-weight: bold\"> Total params: </span><span style=\"color: #00af00; text-decoration-color: #00af00\">14,465</span> (56.50 KB)\n",
              "</pre>\n"
            ]
          },
          "metadata": {}
        },
        {
          "output_type": "display_data",
          "data": {
            "text/plain": [
              "\u001b[1m Trainable params: \u001b[0m\u001b[38;5;34m14,465\u001b[0m (56.50 KB)\n"
            ],
            "text/html": [
              "<pre style=\"white-space:pre;overflow-x:auto;line-height:normal;font-family:Menlo,'DejaVu Sans Mono',consolas,'Courier New',monospace\"><span style=\"font-weight: bold\"> Trainable params: </span><span style=\"color: #00af00; text-decoration-color: #00af00\">14,465</span> (56.50 KB)\n",
              "</pre>\n"
            ]
          },
          "metadata": {}
        },
        {
          "output_type": "display_data",
          "data": {
            "text/plain": [
              "\u001b[1m Non-trainable params: \u001b[0m\u001b[38;5;34m0\u001b[0m (0.00 B)\n"
            ],
            "text/html": [
              "<pre style=\"white-space:pre;overflow-x:auto;line-height:normal;font-family:Menlo,'DejaVu Sans Mono',consolas,'Courier New',monospace\"><span style=\"font-weight: bold\"> Non-trainable params: </span><span style=\"color: #00af00; text-decoration-color: #00af00\">0</span> (0.00 B)\n",
              "</pre>\n"
            ]
          },
          "metadata": {}
        }
      ]
    },
    {
      "cell_type": "code",
      "source": [
        "# @title\n",
        "# Kick-in the training process\n",
        "history = model.fit(\n",
        "    X_train, y_train,\n",
        "    validation_data=(X_val, y_val),\n",
        "    epochs=10,\n",
        "    batch_size=64,\n",
        "    verbose=1)"
      ],
      "metadata": {
        "id": "5hG_SaRQ_1PM",
        "collapsed": true,
        "colab": {
          "base_uri": "https://localhost:8080/"
        },
        "outputId": "4743f49c-a38d-4f6f-8acc-bd295574f648"
      },
      "execution_count": 10,
      "outputs": [
        {
          "output_type": "stream",
          "name": "stdout",
          "text": [
            "Epoch 1/10\n",
            "\u001b[1m110/110\u001b[0m \u001b[32m━━━━━━━━━━━━━━━━━━━━\u001b[0m\u001b[37m\u001b[0m \u001b[1m3s\u001b[0m 8ms/step - accuracy: 0.7550 - auc: 0.5463 - loss: 0.5338 - precision: 0.1915 - recall: 0.0801 - val_accuracy: 0.8187 - val_auc: 0.7078 - val_loss: 0.4400 - val_precision: 1.0000 - val_recall: 0.0523\n",
            "Epoch 2/10\n",
            "\u001b[1m110/110\u001b[0m \u001b[32m━━━━━━━━━━━━━━━━━━━━\u001b[0m\u001b[37m\u001b[0m \u001b[1m1s\u001b[0m 4ms/step - accuracy: 0.8273 - auc: 0.7277 - loss: 0.4315 - precision: 0.7702 - recall: 0.1456 - val_accuracy: 0.8533 - val_auc: 0.7278 - val_loss: 0.4146 - val_precision: 0.8681 - val_recall: 0.2753\n",
            "Epoch 3/10\n",
            "\u001b[1m110/110\u001b[0m \u001b[32m━━━━━━━━━━━━━━━━━━━━\u001b[0m\u001b[37m\u001b[0m \u001b[1m1s\u001b[0m 4ms/step - accuracy: 0.8545 - auc: 0.7547 - loss: 0.4001 - precision: 0.8338 - recall: 0.2908 - val_accuracy: 0.8760 - val_auc: 0.7303 - val_loss: 0.3852 - val_precision: 0.9391 - val_recall: 0.3763\n",
            "Epoch 4/10\n",
            "\u001b[1m110/110\u001b[0m \u001b[32m━━━━━━━━━━━━━━━━━━━━\u001b[0m\u001b[37m\u001b[0m \u001b[1m1s\u001b[0m 4ms/step - accuracy: 0.8778 - auc: 0.7869 - loss: 0.3572 - precision: 0.8456 - recall: 0.4096 - val_accuracy: 0.8847 - val_auc: 0.7244 - val_loss: 0.3706 - val_precision: 0.9191 - val_recall: 0.4355\n",
            "Epoch 5/10\n",
            "\u001b[1m110/110\u001b[0m \u001b[32m━━━━━━━━━━━━━━━━━━━━\u001b[0m\u001b[37m\u001b[0m \u001b[1m1s\u001b[0m 5ms/step - accuracy: 0.8843 - auc: 0.7913 - loss: 0.3465 - precision: 0.8722 - recall: 0.4637 - val_accuracy: 0.8807 - val_auc: 0.7244 - val_loss: 0.3623 - val_precision: 0.9219 - val_recall: 0.4111\n",
            "Epoch 6/10\n",
            "\u001b[1m110/110\u001b[0m \u001b[32m━━━━━━━━━━━━━━━━━━━━\u001b[0m\u001b[37m\u001b[0m \u001b[1m1s\u001b[0m 9ms/step - accuracy: 0.8810 - auc: 0.7897 - loss: 0.3531 - precision: 0.8750 - recall: 0.4712 - val_accuracy: 0.8860 - val_auc: 0.7248 - val_loss: 0.3579 - val_precision: 0.9028 - val_recall: 0.4530\n",
            "Epoch 7/10\n",
            "\u001b[1m110/110\u001b[0m \u001b[32m━━━━━━━━━━━━━━━━━━━━\u001b[0m\u001b[37m\u001b[0m \u001b[1m1s\u001b[0m 8ms/step - accuracy: 0.8842 - auc: 0.7939 - loss: 0.3380 - precision: 0.8527 - recall: 0.4863 - val_accuracy: 0.8873 - val_auc: 0.7235 - val_loss: 0.3547 - val_precision: 0.9155 - val_recall: 0.4530\n",
            "Epoch 8/10\n",
            "\u001b[1m110/110\u001b[0m \u001b[32m━━━━━━━━━━━━━━━━━━━━\u001b[0m\u001b[37m\u001b[0m \u001b[1m1s\u001b[0m 9ms/step - accuracy: 0.8887 - auc: 0.7945 - loss: 0.3293 - precision: 0.8726 - recall: 0.4695 - val_accuracy: 0.8860 - val_auc: 0.7172 - val_loss: 0.3561 - val_precision: 0.8816 - val_recall: 0.4669\n",
            "Epoch 9/10\n",
            "\u001b[1m110/110\u001b[0m \u001b[32m━━━━━━━━━━━━━━━━━━━━\u001b[0m\u001b[37m\u001b[0m \u001b[1m1s\u001b[0m 6ms/step - accuracy: 0.8950 - auc: 0.8132 - loss: 0.3146 - precision: 0.8846 - recall: 0.5181 - val_accuracy: 0.8860 - val_auc: 0.7198 - val_loss: 0.3538 - val_precision: 0.9085 - val_recall: 0.4495\n",
            "Epoch 10/10\n",
            "\u001b[1m110/110\u001b[0m \u001b[32m━━━━━━━━━━━━━━━━━━━━\u001b[0m\u001b[37m\u001b[0m \u001b[1m1s\u001b[0m 4ms/step - accuracy: 0.8929 - auc: 0.8043 - loss: 0.3216 - precision: 0.8824 - recall: 0.5058 - val_accuracy: 0.8867 - val_auc: 0.7162 - val_loss: 0.3547 - val_precision: 0.9333 - val_recall: 0.4390\n"
          ]
        }
      ]
    },
    {
      "cell_type": "code",
      "source": [
        "# @title\n",
        "# Evaluate on test data\n",
        "y_pred_prob = model.predict(X_test).ravel()     #or flatten() - just to convert shape (N,1) to (N,)\n",
        "y_pred = (y_pred_prob > 0.5).astype(int)\n",
        "\n",
        "print(\"\\nConfusion Matrix:\\n\", confusion_matrix(y_test, y_pred))\n",
        "print(\"\\nClassification Report:\\n\", classification_report(y_test, y_pred, digits=3))\n",
        "print(\"ROC-AUC:\", roc_auc_score(y_test, y_pred_prob))"
      ],
      "metadata": {
        "id": "-jENVqvv_1G-",
        "collapsed": true,
        "colab": {
          "base_uri": "https://localhost:8080/"
        },
        "outputId": "a7a4c243-94d6-49ab-ac8b-b42248465214"
      },
      "execution_count": 11,
      "outputs": [
        {
          "output_type": "stream",
          "name": "stdout",
          "text": [
            "\u001b[1m47/47\u001b[0m \u001b[32m━━━━━━━━━━━━━━━━━━━━\u001b[0m\u001b[37m\u001b[0m \u001b[1m0s\u001b[0m 3ms/step\n",
            "\n",
            "Confusion Matrix:\n",
            " [[1199   14]\n",
            " [ 143  144]]\n",
            "\n",
            "Classification Report:\n",
            "               precision    recall  f1-score   support\n",
            "\n",
            "           0      0.893     0.988     0.939      1213\n",
            "           1      0.911     0.502     0.647       287\n",
            "\n",
            "    accuracy                          0.895      1500\n",
            "   macro avg      0.902     0.745     0.793      1500\n",
            "weighted avg      0.897     0.895     0.883      1500\n",
            "\n",
            "ROC-AUC: 0.7482556853598215\n"
          ]
        }
      ]
    },
    {
      "cell_type": "code",
      "source": [
        "# @title\n",
        "# Handling imbalance : Oversampling, class weights, undersampling (bad-idea, though!!)\n",
        "\n",
        "# SMOTE Resampling\n",
        "from imblearn.over_sampling import SMOTE\n",
        "from imblearn.under_sampling import RandomUnderSampler\n",
        "X_smote,y_smote = SMOTE(random_state=42).fit_resample(X_train,y_train)\n",
        "X_under,y_under = RandomUnderSampler(random_state=42).fit_resample(X_smote,y_smote)\n",
        "\n",
        "# Compute Class Weights\n",
        "from sklearn.utils.class_weight import compute_class_weight\n",
        "classes = np.unique(y_train)\n",
        "weights = compute_class_weight(class_weight=\"balanced\", classes=classes, y=y_train)\n",
        "class_weights = dict(zip(classes, weights))\n",
        "print(\"Class Weights:\", class_weights)\n"
      ],
      "metadata": {
        "id": "8DDFcY4TAQOK",
        "collapsed": true,
        "colab": {
          "base_uri": "https://localhost:8080/"
        },
        "outputId": "31fe79bf-373f-48d4-8d53-2148dfa64852"
      },
      "execution_count": 12,
      "outputs": [
        {
          "output_type": "stream",
          "name": "stdout",
          "text": [
            "Class Weights: {np.int64(0): np.float64(0.6184838310655593), np.int64(1): np.float64(2.609992542878449)}\n"
          ]
        }
      ]
    },
    {
      "cell_type": "code",
      "source": [
        "# Principle of Autoencoders - Runs a encoder-decoder architecture aimed at reconstructing data.\n",
        "# We train the autoencoders on normal data.\n",
        "# Incase of anomalous data the encoder-decoder architecture fails to reconstruct the data."
      ],
      "metadata": {
        "id": "qgduzjOYR_3Z"
      },
      "execution_count": null,
      "outputs": []
    },
    {
      "cell_type": "code",
      "source": [
        "X.shape, y.shape"
      ],
      "metadata": {
        "colab": {
          "base_uri": "https://localhost:8080/"
        },
        "id": "Z_Z0qz9MR_0_",
        "outputId": "777a1bba-c895-421d-c921-e788b447c121"
      },
      "execution_count": 13,
      "outputs": [
        {
          "output_type": "execute_result",
          "data": {
            "text/plain": [
              "((10000, 10), (10000,))"
            ]
          },
          "metadata": {},
          "execution_count": 13
        }
      ]
    },
    {
      "cell_type": "code",
      "source": [
        "# We'll split nonanomalous data into training and validation. A portion of it can be kept for testing as well.\n",
        "# But non-anomalous data is put only in testing, as that's when it can detect anomaly."
      ],
      "metadata": {
        "id": "FHF_UPYUR_w1"
      },
      "execution_count": null,
      "outputs": []
    },
    {
      "cell_type": "code",
      "source": [
        "# Split NORMAL samples\n",
        "\n",
        "X_norm = X[y == 0]\n",
        "y_norm = y[y == 0]\n",
        "\n",
        "# 75% train, 15% val, 10% test\n",
        "X_train_norm, X_temp_norm, y_train_norm, y_temp_norm = train_test_split(X_norm, y_norm, test_size=0.25, random_state=42)  # leaves 75% train, 25% temp\n",
        "X_val_norm, X_test_norm, y_val_norm, y_test_norm = train_test_split(X_temp_norm, y_temp_norm, test_size=0.4, random_state=42)  # 15% val, 10% test\n",
        "\n",
        "print(\"Train normals:\", X_train_norm.shape)\n",
        "print(\"Val normals:\", X_val_norm.shape)\n",
        "print(\"Test normals:\", X_test_norm.shape)"
      ],
      "metadata": {
        "colab": {
          "base_uri": "https://localhost:8080/"
        },
        "id": "PPzuGAp4R_tX",
        "outputId": "13cae0c0-3cd0-4c0c-cce1-096725015343"
      },
      "execution_count": 14,
      "outputs": [
        {
          "output_type": "stream",
          "name": "stdout",
          "text": [
            "Train normals: (6063, 10)\n",
            "Val normals: (1213, 10)\n",
            "Test normals: (809, 10)\n"
          ]
        }
      ]
    },
    {
      "cell_type": "code",
      "source": [
        "# Collect ANOMALOUS samples (all for test)\n",
        "\n",
        "X_anom = X[y == 1]\n",
        "y_anom = y[y == 1]\n",
        "\n",
        "print(\"Anomalies:\", X_anom.shape)"
      ],
      "metadata": {
        "colab": {
          "base_uri": "https://localhost:8080/"
        },
        "id": "3KqYei68R_qt",
        "outputId": "9364ea97-9cb2-436d-d655-f06b256e4891"
      },
      "execution_count": 15,
      "outputs": [
        {
          "output_type": "stream",
          "name": "stdout",
          "text": [
            "Anomalies: (1915, 10)\n"
          ]
        }
      ]
    },
    {
      "cell_type": "code",
      "source": [
        "# Final test set = 10% normals + all anomalies\n",
        "\n",
        "X_test = pd.concat([X_test_norm, X_anom], axis=0)\n",
        "y_test = np.concatenate([y_test_norm, y_anom])\n",
        "\n",
        "print(\"Final Test set:\", X_test.shape, \"with anomalies:\", (y_test == 1).sum())"
      ],
      "metadata": {
        "colab": {
          "base_uri": "https://localhost:8080/"
        },
        "id": "2mMgDyMLR_nu",
        "outputId": "b188aa11-d9a1-4f12-dcd4-134c061ad2d8"
      },
      "execution_count": 16,
      "outputs": [
        {
          "output_type": "stream",
          "name": "stdout",
          "text": [
            "Final Test set: (2724, 10) with anomalies: 1915\n"
          ]
        }
      ]
    },
    {
      "cell_type": "code",
      "source": [
        "# We'll use same preprocessor\n",
        "\n",
        "X_train_prep = preprocessor.fit_transform(X_train_norm)\n",
        "X_val_prep   = preprocessor.transform(X_val_norm)\n",
        "X_test_prep  = preprocessor.transform(X_test)\n",
        "\n",
        "# Convert csr matrix into np array format. Else can use sparse_output=False as an option in pipeline\n",
        "\n",
        "X_train_prep = X_train_prep.toarray().astype(\"float32\")\n",
        "X_val_prep   = X_val_prep.toarray().astype(\"float32\")\n",
        "X_test_prep  = X_test_prep.toarray().astype(\"float32\")"
      ],
      "metadata": {
        "id": "mEQWSqI9nM47"
      },
      "execution_count": 17,
      "outputs": []
    },
    {
      "cell_type": "code",
      "source": [
        "# Build Autoencoder\n",
        "\n",
        "input_dim = X_train_prep.shape[1]\n",
        "\n",
        "autoencoder = Sequential()\n",
        "\n",
        "# Encoder\n",
        "autoencoder.add(Dense(128, activation=\"relu\", input_shape=(input_dim,)))\n",
        "autoencoder.add(Dropout(0.2))\n",
        "autoencoder.add(Dense(64, activation=\"relu\"))\n",
        "autoencoder.add(Dense(32, activation=\"relu\"))\n",
        "autoencoder.add(Dense(16, activation=\"relu\"))   # bottleneck\n",
        "\n",
        "# Decoder\n",
        "autoencoder.add(Dense(32, activation=\"relu\"))\n",
        "autoencoder.add(Dense(64, activation=\"relu\"))\n",
        "autoencoder.add(Dropout(0.2))\n",
        "autoencoder.add(Dense(128, activation=\"relu\"))\n",
        "autoencoder.add(Dense(input_dim))  # reconstruct input\n",
        "\n",
        "# Define r2 score, because its our common metric for regression\n",
        "\n",
        "import tensorflow as tf\n",
        "def r2_score(y_true, y_pred):\n",
        "    ss_res = tf.reduce_sum(tf.square(y_true - y_pred))\n",
        "    ss_tot = tf.reduce_sum(tf.square(y_true - tf.reduce_mean(y_true)))\n",
        "    return 1 - ss_res/(ss_tot + tf.keras.backend.epsilon())\n",
        "\n",
        "# Compile\n",
        "autoencoder.compile(optimizer=\"adam\", loss=\"mse\", metrics= [r2_score])\n",
        "autoencoder.summary()"
      ],
      "metadata": {
        "colab": {
          "base_uri": "https://localhost:8080/",
          "height": 504
        },
        "id": "otU6oWn-oCEk",
        "outputId": "61ad60f7-199f-4230-c5df-655c9fb53612"
      },
      "execution_count": 18,
      "outputs": [
        {
          "output_type": "stream",
          "name": "stderr",
          "text": [
            "/usr/local/lib/python3.12/dist-packages/keras/src/layers/core/dense.py:93: UserWarning: Do not pass an `input_shape`/`input_dim` argument to a layer. When using Sequential models, prefer using an `Input(shape)` object as the first layer in the model instead.\n",
            "  super().__init__(activity_regularizer=activity_regularizer, **kwargs)\n"
          ]
        },
        {
          "output_type": "display_data",
          "data": {
            "text/plain": [
              "\u001b[1mModel: \"sequential_1\"\u001b[0m\n"
            ],
            "text/html": [
              "<pre style=\"white-space:pre;overflow-x:auto;line-height:normal;font-family:Menlo,'DejaVu Sans Mono',consolas,'Courier New',monospace\"><span style=\"font-weight: bold\">Model: \"sequential_1\"</span>\n",
              "</pre>\n"
            ]
          },
          "metadata": {}
        },
        {
          "output_type": "display_data",
          "data": {
            "text/plain": [
              "┏━━━━━━━━━━━━━━━━━━━━━━━━━━━━━━━━━┳━━━━━━━━━━━━━━━━━━━━━━━━┳━━━━━━━━━━━━━━━┓\n",
              "┃\u001b[1m \u001b[0m\u001b[1mLayer (type)                   \u001b[0m\u001b[1m \u001b[0m┃\u001b[1m \u001b[0m\u001b[1mOutput Shape          \u001b[0m\u001b[1m \u001b[0m┃\u001b[1m \u001b[0m\u001b[1m      Param #\u001b[0m\u001b[1m \u001b[0m┃\n",
              "┡━━━━━━━━━━━━━━━━━━━━━━━━━━━━━━━━━╇━━━━━━━━━━━━━━━━━━━━━━━━╇━━━━━━━━━━━━━━━┩\n",
              "│ dense_3 (\u001b[38;5;33mDense\u001b[0m)                 │ (\u001b[38;5;45mNone\u001b[0m, \u001b[38;5;34m128\u001b[0m)            │         \u001b[38;5;34m6,144\u001b[0m │\n",
              "├─────────────────────────────────┼────────────────────────┼───────────────┤\n",
              "│ dropout_2 (\u001b[38;5;33mDropout\u001b[0m)             │ (\u001b[38;5;45mNone\u001b[0m, \u001b[38;5;34m128\u001b[0m)            │             \u001b[38;5;34m0\u001b[0m │\n",
              "├─────────────────────────────────┼────────────────────────┼───────────────┤\n",
              "│ dense_4 (\u001b[38;5;33mDense\u001b[0m)                 │ (\u001b[38;5;45mNone\u001b[0m, \u001b[38;5;34m64\u001b[0m)             │         \u001b[38;5;34m8,256\u001b[0m │\n",
              "├─────────────────────────────────┼────────────────────────┼───────────────┤\n",
              "│ dense_5 (\u001b[38;5;33mDense\u001b[0m)                 │ (\u001b[38;5;45mNone\u001b[0m, \u001b[38;5;34m32\u001b[0m)             │         \u001b[38;5;34m2,080\u001b[0m │\n",
              "├─────────────────────────────────┼────────────────────────┼───────────────┤\n",
              "│ dense_6 (\u001b[38;5;33mDense\u001b[0m)                 │ (\u001b[38;5;45mNone\u001b[0m, \u001b[38;5;34m16\u001b[0m)             │           \u001b[38;5;34m528\u001b[0m │\n",
              "├─────────────────────────────────┼────────────────────────┼───────────────┤\n",
              "│ dense_7 (\u001b[38;5;33mDense\u001b[0m)                 │ (\u001b[38;5;45mNone\u001b[0m, \u001b[38;5;34m32\u001b[0m)             │           \u001b[38;5;34m544\u001b[0m │\n",
              "├─────────────────────────────────┼────────────────────────┼───────────────┤\n",
              "│ dense_8 (\u001b[38;5;33mDense\u001b[0m)                 │ (\u001b[38;5;45mNone\u001b[0m, \u001b[38;5;34m64\u001b[0m)             │         \u001b[38;5;34m2,112\u001b[0m │\n",
              "├─────────────────────────────────┼────────────────────────┼───────────────┤\n",
              "│ dropout_3 (\u001b[38;5;33mDropout\u001b[0m)             │ (\u001b[38;5;45mNone\u001b[0m, \u001b[38;5;34m64\u001b[0m)             │             \u001b[38;5;34m0\u001b[0m │\n",
              "├─────────────────────────────────┼────────────────────────┼───────────────┤\n",
              "│ dense_9 (\u001b[38;5;33mDense\u001b[0m)                 │ (\u001b[38;5;45mNone\u001b[0m, \u001b[38;5;34m128\u001b[0m)            │         \u001b[38;5;34m8,320\u001b[0m │\n",
              "├─────────────────────────────────┼────────────────────────┼───────────────┤\n",
              "│ dense_10 (\u001b[38;5;33mDense\u001b[0m)                │ (\u001b[38;5;45mNone\u001b[0m, \u001b[38;5;34m47\u001b[0m)             │         \u001b[38;5;34m6,063\u001b[0m │\n",
              "└─────────────────────────────────┴────────────────────────┴───────────────┘\n"
            ],
            "text/html": [
              "<pre style=\"white-space:pre;overflow-x:auto;line-height:normal;font-family:Menlo,'DejaVu Sans Mono',consolas,'Courier New',monospace\">┏━━━━━━━━━━━━━━━━━━━━━━━━━━━━━━━━━┳━━━━━━━━━━━━━━━━━━━━━━━━┳━━━━━━━━━━━━━━━┓\n",
              "┃<span style=\"font-weight: bold\"> Layer (type)                    </span>┃<span style=\"font-weight: bold\"> Output Shape           </span>┃<span style=\"font-weight: bold\">       Param # </span>┃\n",
              "┡━━━━━━━━━━━━━━━━━━━━━━━━━━━━━━━━━╇━━━━━━━━━━━━━━━━━━━━━━━━╇━━━━━━━━━━━━━━━┩\n",
              "│ dense_3 (<span style=\"color: #0087ff; text-decoration-color: #0087ff\">Dense</span>)                 │ (<span style=\"color: #00d7ff; text-decoration-color: #00d7ff\">None</span>, <span style=\"color: #00af00; text-decoration-color: #00af00\">128</span>)            │         <span style=\"color: #00af00; text-decoration-color: #00af00\">6,144</span> │\n",
              "├─────────────────────────────────┼────────────────────────┼───────────────┤\n",
              "│ dropout_2 (<span style=\"color: #0087ff; text-decoration-color: #0087ff\">Dropout</span>)             │ (<span style=\"color: #00d7ff; text-decoration-color: #00d7ff\">None</span>, <span style=\"color: #00af00; text-decoration-color: #00af00\">128</span>)            │             <span style=\"color: #00af00; text-decoration-color: #00af00\">0</span> │\n",
              "├─────────────────────────────────┼────────────────────────┼───────────────┤\n",
              "│ dense_4 (<span style=\"color: #0087ff; text-decoration-color: #0087ff\">Dense</span>)                 │ (<span style=\"color: #00d7ff; text-decoration-color: #00d7ff\">None</span>, <span style=\"color: #00af00; text-decoration-color: #00af00\">64</span>)             │         <span style=\"color: #00af00; text-decoration-color: #00af00\">8,256</span> │\n",
              "├─────────────────────────────────┼────────────────────────┼───────────────┤\n",
              "│ dense_5 (<span style=\"color: #0087ff; text-decoration-color: #0087ff\">Dense</span>)                 │ (<span style=\"color: #00d7ff; text-decoration-color: #00d7ff\">None</span>, <span style=\"color: #00af00; text-decoration-color: #00af00\">32</span>)             │         <span style=\"color: #00af00; text-decoration-color: #00af00\">2,080</span> │\n",
              "├─────────────────────────────────┼────────────────────────┼───────────────┤\n",
              "│ dense_6 (<span style=\"color: #0087ff; text-decoration-color: #0087ff\">Dense</span>)                 │ (<span style=\"color: #00d7ff; text-decoration-color: #00d7ff\">None</span>, <span style=\"color: #00af00; text-decoration-color: #00af00\">16</span>)             │           <span style=\"color: #00af00; text-decoration-color: #00af00\">528</span> │\n",
              "├─────────────────────────────────┼────────────────────────┼───────────────┤\n",
              "│ dense_7 (<span style=\"color: #0087ff; text-decoration-color: #0087ff\">Dense</span>)                 │ (<span style=\"color: #00d7ff; text-decoration-color: #00d7ff\">None</span>, <span style=\"color: #00af00; text-decoration-color: #00af00\">32</span>)             │           <span style=\"color: #00af00; text-decoration-color: #00af00\">544</span> │\n",
              "├─────────────────────────────────┼────────────────────────┼───────────────┤\n",
              "│ dense_8 (<span style=\"color: #0087ff; text-decoration-color: #0087ff\">Dense</span>)                 │ (<span style=\"color: #00d7ff; text-decoration-color: #00d7ff\">None</span>, <span style=\"color: #00af00; text-decoration-color: #00af00\">64</span>)             │         <span style=\"color: #00af00; text-decoration-color: #00af00\">2,112</span> │\n",
              "├─────────────────────────────────┼────────────────────────┼───────────────┤\n",
              "│ dropout_3 (<span style=\"color: #0087ff; text-decoration-color: #0087ff\">Dropout</span>)             │ (<span style=\"color: #00d7ff; text-decoration-color: #00d7ff\">None</span>, <span style=\"color: #00af00; text-decoration-color: #00af00\">64</span>)             │             <span style=\"color: #00af00; text-decoration-color: #00af00\">0</span> │\n",
              "├─────────────────────────────────┼────────────────────────┼───────────────┤\n",
              "│ dense_9 (<span style=\"color: #0087ff; text-decoration-color: #0087ff\">Dense</span>)                 │ (<span style=\"color: #00d7ff; text-decoration-color: #00d7ff\">None</span>, <span style=\"color: #00af00; text-decoration-color: #00af00\">128</span>)            │         <span style=\"color: #00af00; text-decoration-color: #00af00\">8,320</span> │\n",
              "├─────────────────────────────────┼────────────────────────┼───────────────┤\n",
              "│ dense_10 (<span style=\"color: #0087ff; text-decoration-color: #0087ff\">Dense</span>)                │ (<span style=\"color: #00d7ff; text-decoration-color: #00d7ff\">None</span>, <span style=\"color: #00af00; text-decoration-color: #00af00\">47</span>)             │         <span style=\"color: #00af00; text-decoration-color: #00af00\">6,063</span> │\n",
              "└─────────────────────────────────┴────────────────────────┴───────────────┘\n",
              "</pre>\n"
            ]
          },
          "metadata": {}
        },
        {
          "output_type": "display_data",
          "data": {
            "text/plain": [
              "\u001b[1m Total params: \u001b[0m\u001b[38;5;34m34,047\u001b[0m (133.00 KB)\n"
            ],
            "text/html": [
              "<pre style=\"white-space:pre;overflow-x:auto;line-height:normal;font-family:Menlo,'DejaVu Sans Mono',consolas,'Courier New',monospace\"><span style=\"font-weight: bold\"> Total params: </span><span style=\"color: #00af00; text-decoration-color: #00af00\">34,047</span> (133.00 KB)\n",
              "</pre>\n"
            ]
          },
          "metadata": {}
        },
        {
          "output_type": "display_data",
          "data": {
            "text/plain": [
              "\u001b[1m Trainable params: \u001b[0m\u001b[38;5;34m34,047\u001b[0m (133.00 KB)\n"
            ],
            "text/html": [
              "<pre style=\"white-space:pre;overflow-x:auto;line-height:normal;font-family:Menlo,'DejaVu Sans Mono',consolas,'Courier New',monospace\"><span style=\"font-weight: bold\"> Trainable params: </span><span style=\"color: #00af00; text-decoration-color: #00af00\">34,047</span> (133.00 KB)\n",
              "</pre>\n"
            ]
          },
          "metadata": {}
        },
        {
          "output_type": "display_data",
          "data": {
            "text/plain": [
              "\u001b[1m Non-trainable params: \u001b[0m\u001b[38;5;34m0\u001b[0m (0.00 B)\n"
            ],
            "text/html": [
              "<pre style=\"white-space:pre;overflow-x:auto;line-height:normal;font-family:Menlo,'DejaVu Sans Mono',consolas,'Courier New',monospace\"><span style=\"font-weight: bold\"> Non-trainable params: </span><span style=\"color: #00af00; text-decoration-color: #00af00\">0</span> (0.00 B)\n",
              "</pre>\n"
            ]
          },
          "metadata": {}
        }
      ]
    },
    {
      "cell_type": "code",
      "source": [
        "# Train Autoencoder\n",
        "\n",
        "history = autoencoder.fit(\n",
        "    X_train_prep, X_train_prep,\n",
        "    validation_data=(X_val_prep, X_val_prep),\n",
        "    epochs=50,\n",
        "    batch_size=64,\n",
        "    verbose=1)"
      ],
      "metadata": {
        "colab": {
          "base_uri": "https://localhost:8080/"
        },
        "id": "S91w6Z79ocRX",
        "outputId": "9cb75bdb-167c-4b23-feac-d38de1e39beb"
      },
      "execution_count": 19,
      "outputs": [
        {
          "output_type": "stream",
          "name": "stdout",
          "text": [
            "Epoch 1/50\n",
            "\u001b[1m95/95\u001b[0m \u001b[32m━━━━━━━━━━━━━━━━━━━━\u001b[0m\u001b[37m\u001b[0m \u001b[1m5s\u001b[0m 26ms/step - loss: 0.1900 - r2_score: 0.0305 - val_loss: 0.1177 - val_r2_score: 0.4032\n",
            "Epoch 2/50\n",
            "\u001b[1m95/95\u001b[0m \u001b[32m━━━━━━━━━━━━━━━━━━━━\u001b[0m\u001b[37m\u001b[0m \u001b[1m1s\u001b[0m 7ms/step - loss: 0.1198 - r2_score: 0.3893 - val_loss: 0.0982 - val_r2_score: 0.5020\n",
            "Epoch 3/50\n",
            "\u001b[1m95/95\u001b[0m \u001b[32m━━━━━━━━━━━━━━━━━━━━\u001b[0m\u001b[37m\u001b[0m \u001b[1m1s\u001b[0m 7ms/step - loss: 0.1036 - r2_score: 0.4713 - val_loss: 0.0865 - val_r2_score: 0.5614\n",
            "Epoch 4/50\n",
            "\u001b[1m95/95\u001b[0m \u001b[32m━━━━━━━━━━━━━━━━━━━━\u001b[0m\u001b[37m\u001b[0m \u001b[1m1s\u001b[0m 4ms/step - loss: 0.0945 - r2_score: 0.5192 - val_loss: 0.0750 - val_r2_score: 0.6194\n",
            "Epoch 5/50\n",
            "\u001b[1m95/95\u001b[0m \u001b[32m━━━━━━━━━━━━━━━━━━━━\u001b[0m\u001b[37m\u001b[0m \u001b[1m1s\u001b[0m 4ms/step - loss: 0.0843 - r2_score: 0.5724 - val_loss: 0.0681 - val_r2_score: 0.6546\n",
            "Epoch 6/50\n",
            "\u001b[1m95/95\u001b[0m \u001b[32m━━━━━━━━━━━━━━━━━━━━\u001b[0m\u001b[37m\u001b[0m \u001b[1m1s\u001b[0m 4ms/step - loss: 0.0791 - r2_score: 0.5973 - val_loss: 0.0640 - val_r2_score: 0.6752\n",
            "Epoch 7/50\n",
            "\u001b[1m95/95\u001b[0m \u001b[32m━━━━━━━━━━━━━━━━━━━━\u001b[0m\u001b[37m\u001b[0m \u001b[1m0s\u001b[0m 4ms/step - loss: 0.0749 - r2_score: 0.6201 - val_loss: 0.0595 - val_r2_score: 0.6984\n",
            "Epoch 8/50\n",
            "\u001b[1m95/95\u001b[0m \u001b[32m━━━━━━━━━━━━━━━━━━━━\u001b[0m\u001b[37m\u001b[0m \u001b[1m1s\u001b[0m 4ms/step - loss: 0.0723 - r2_score: 0.6334 - val_loss: 0.0573 - val_r2_score: 0.7095\n",
            "Epoch 9/50\n",
            "\u001b[1m95/95\u001b[0m \u001b[32m━━━━━━━━━━━━━━━━━━━━\u001b[0m\u001b[37m\u001b[0m \u001b[1m1s\u001b[0m 4ms/step - loss: 0.0697 - r2_score: 0.6455 - val_loss: 0.0550 - val_r2_score: 0.7212\n",
            "Epoch 10/50\n",
            "\u001b[1m95/95\u001b[0m \u001b[32m━━━━━━━━━━━━━━━━━━━━\u001b[0m\u001b[37m\u001b[0m \u001b[1m1s\u001b[0m 4ms/step - loss: 0.0678 - r2_score: 0.6541 - val_loss: 0.0533 - val_r2_score: 0.7299\n",
            "Epoch 11/50\n",
            "\u001b[1m95/95\u001b[0m \u001b[32m━━━━━━━━━━━━━━━━━━━━\u001b[0m\u001b[37m\u001b[0m \u001b[1m0s\u001b[0m 4ms/step - loss: 0.0654 - r2_score: 0.6682 - val_loss: 0.0511 - val_r2_score: 0.7410\n",
            "Epoch 12/50\n",
            "\u001b[1m95/95\u001b[0m \u001b[32m━━━━━━━━━━━━━━━━━━━━\u001b[0m\u001b[37m\u001b[0m \u001b[1m0s\u001b[0m 4ms/step - loss: 0.0637 - r2_score: 0.6759 - val_loss: 0.0485 - val_r2_score: 0.7539\n",
            "Epoch 13/50\n",
            "\u001b[1m95/95\u001b[0m \u001b[32m━━━━━━━━━━━━━━━━━━━━\u001b[0m\u001b[37m\u001b[0m \u001b[1m0s\u001b[0m 4ms/step - loss: 0.0624 - r2_score: 0.6823 - val_loss: 0.0465 - val_r2_score: 0.7643\n",
            "Epoch 14/50\n",
            "\u001b[1m95/95\u001b[0m \u001b[32m━━━━━━━━━━━━━━━━━━━━\u001b[0m\u001b[37m\u001b[0m \u001b[1m1s\u001b[0m 4ms/step - loss: 0.0602 - r2_score: 0.6940 - val_loss: 0.0444 - val_r2_score: 0.7749\n",
            "Epoch 15/50\n",
            "\u001b[1m95/95\u001b[0m \u001b[32m━━━━━━━━━━━━━━━━━━━━\u001b[0m\u001b[37m\u001b[0m \u001b[1m0s\u001b[0m 4ms/step - loss: 0.0595 - r2_score: 0.6974 - val_loss: 0.0432 - val_r2_score: 0.7807\n",
            "Epoch 16/50\n",
            "\u001b[1m95/95\u001b[0m \u001b[32m━━━━━━━━━━━━━━━━━━━━\u001b[0m\u001b[37m\u001b[0m \u001b[1m1s\u001b[0m 4ms/step - loss: 0.0574 - r2_score: 0.7085 - val_loss: 0.0424 - val_r2_score: 0.7850\n",
            "Epoch 17/50\n",
            "\u001b[1m95/95\u001b[0m \u001b[32m━━━━━━━━━━━━━━━━━━━━\u001b[0m\u001b[37m\u001b[0m \u001b[1m0s\u001b[0m 4ms/step - loss: 0.0565 - r2_score: 0.7120 - val_loss: 0.0409 - val_r2_score: 0.7928\n",
            "Epoch 18/50\n",
            "\u001b[1m95/95\u001b[0m \u001b[32m━━━━━━━━━━━━━━━━━━━━\u001b[0m\u001b[37m\u001b[0m \u001b[1m1s\u001b[0m 4ms/step - loss: 0.0552 - r2_score: 0.7197 - val_loss: 0.0394 - val_r2_score: 0.8003\n",
            "Epoch 19/50\n",
            "\u001b[1m95/95\u001b[0m \u001b[32m━━━━━━━━━━━━━━━━━━━━\u001b[0m\u001b[37m\u001b[0m \u001b[1m0s\u001b[0m 4ms/step - loss: 0.0542 - r2_score: 0.7256 - val_loss: 0.0368 - val_r2_score: 0.8132\n",
            "Epoch 20/50\n",
            "\u001b[1m95/95\u001b[0m \u001b[32m━━━━━━━━━━━━━━━━━━━━\u001b[0m\u001b[37m\u001b[0m \u001b[1m1s\u001b[0m 4ms/step - loss: 0.0527 - r2_score: 0.7318 - val_loss: 0.0361 - val_r2_score: 0.8171\n",
            "Epoch 21/50\n",
            "\u001b[1m95/95\u001b[0m \u001b[32m━━━━━━━━━━━━━━━━━━━━\u001b[0m\u001b[37m\u001b[0m \u001b[1m1s\u001b[0m 4ms/step - loss: 0.0512 - r2_score: 0.7399 - val_loss: 0.0348 - val_r2_score: 0.8234\n",
            "Epoch 22/50\n",
            "\u001b[1m95/95\u001b[0m \u001b[32m━━━━━━━━━━━━━━━━━━━━\u001b[0m\u001b[37m\u001b[0m \u001b[1m1s\u001b[0m 6ms/step - loss: 0.0512 - r2_score: 0.7393 - val_loss: 0.0351 - val_r2_score: 0.8219\n",
            "Epoch 23/50\n",
            "\u001b[1m95/95\u001b[0m \u001b[32m━━━━━━━━━━━━━━━━━━━━\u001b[0m\u001b[37m\u001b[0m \u001b[1m1s\u001b[0m 7ms/step - loss: 0.0502 - r2_score: 0.7454 - val_loss: 0.0335 - val_r2_score: 0.8302\n",
            "Epoch 24/50\n",
            "\u001b[1m95/95\u001b[0m \u001b[32m━━━━━━━━━━━━━━━━━━━━\u001b[0m\u001b[37m\u001b[0m \u001b[1m1s\u001b[0m 7ms/step - loss: 0.0493 - r2_score: 0.7487 - val_loss: 0.0326 - val_r2_score: 0.8346\n",
            "Epoch 25/50\n",
            "\u001b[1m95/95\u001b[0m \u001b[32m━━━━━━━━━━━━━━━━━━━━\u001b[0m\u001b[37m\u001b[0m \u001b[1m1s\u001b[0m 7ms/step - loss: 0.0485 - r2_score: 0.7530 - val_loss: 0.0334 - val_r2_score: 0.8309\n",
            "Epoch 26/50\n",
            "\u001b[1m95/95\u001b[0m \u001b[32m━━━━━━━━━━━━━━━━━━━━\u001b[0m\u001b[37m\u001b[0m \u001b[1m0s\u001b[0m 4ms/step - loss: 0.0484 - r2_score: 0.7540 - val_loss: 0.0328 - val_r2_score: 0.8335\n",
            "Epoch 27/50\n",
            "\u001b[1m95/95\u001b[0m \u001b[32m━━━━━━━━━━━━━━━━━━━━\u001b[0m\u001b[37m\u001b[0m \u001b[1m0s\u001b[0m 4ms/step - loss: 0.0475 - r2_score: 0.7582 - val_loss: 0.0323 - val_r2_score: 0.8364\n",
            "Epoch 28/50\n",
            "\u001b[1m95/95\u001b[0m \u001b[32m━━━━━━━━━━━━━━━━━━━━\u001b[0m\u001b[37m\u001b[0m \u001b[1m1s\u001b[0m 4ms/step - loss: 0.0475 - r2_score: 0.7575 - val_loss: 0.0321 - val_r2_score: 0.8371\n",
            "Epoch 29/50\n",
            "\u001b[1m95/95\u001b[0m \u001b[32m━━━━━━━━━━━━━━━━━━━━\u001b[0m\u001b[37m\u001b[0m \u001b[1m1s\u001b[0m 4ms/step - loss: 0.0468 - r2_score: 0.7618 - val_loss: 0.0313 - val_r2_score: 0.8413\n",
            "Epoch 30/50\n",
            "\u001b[1m95/95\u001b[0m \u001b[32m━━━━━━━━━━━━━━━━━━━━\u001b[0m\u001b[37m\u001b[0m \u001b[1m0s\u001b[0m 4ms/step - loss: 0.0464 - r2_score: 0.7637 - val_loss: 0.0308 - val_r2_score: 0.8436\n",
            "Epoch 31/50\n",
            "\u001b[1m95/95\u001b[0m \u001b[32m━━━━━━━━━━━━━━━━━━━━\u001b[0m\u001b[37m\u001b[0m \u001b[1m1s\u001b[0m 4ms/step - loss: 0.0460 - r2_score: 0.7657 - val_loss: 0.0313 - val_r2_score: 0.8414\n",
            "Epoch 32/50\n",
            "\u001b[1m95/95\u001b[0m \u001b[32m━━━━━━━━━━━━━━━━━━━━\u001b[0m\u001b[37m\u001b[0m \u001b[1m1s\u001b[0m 4ms/step - loss: 0.0454 - r2_score: 0.7678 - val_loss: 0.0298 - val_r2_score: 0.8486\n",
            "Epoch 33/50\n",
            "\u001b[1m95/95\u001b[0m \u001b[32m━━━━━━━━━━━━━━━━━━━━\u001b[0m\u001b[37m\u001b[0m \u001b[1m1s\u001b[0m 4ms/step - loss: 0.0451 - r2_score: 0.7703 - val_loss: 0.0294 - val_r2_score: 0.8507\n",
            "Epoch 34/50\n",
            "\u001b[1m95/95\u001b[0m \u001b[32m━━━━━━━━━━━━━━━━━━━━\u001b[0m\u001b[37m\u001b[0m \u001b[1m1s\u001b[0m 4ms/step - loss: 0.0444 - r2_score: 0.7743 - val_loss: 0.0288 - val_r2_score: 0.8541\n",
            "Epoch 35/50\n",
            "\u001b[1m95/95\u001b[0m \u001b[32m━━━━━━━━━━━━━━━━━━━━\u001b[0m\u001b[37m\u001b[0m \u001b[1m0s\u001b[0m 4ms/step - loss: 0.0438 - r2_score: 0.7763 - val_loss: 0.0291 - val_r2_score: 0.8526\n",
            "Epoch 36/50\n",
            "\u001b[1m95/95\u001b[0m \u001b[32m━━━━━━━━━━━━━━━━━━━━\u001b[0m\u001b[37m\u001b[0m \u001b[1m1s\u001b[0m 4ms/step - loss: 0.0434 - r2_score: 0.7784 - val_loss: 0.0288 - val_r2_score: 0.8542\n",
            "Epoch 37/50\n",
            "\u001b[1m95/95\u001b[0m \u001b[32m━━━━━━━━━━━━━━━━━━━━\u001b[0m\u001b[37m\u001b[0m \u001b[1m0s\u001b[0m 4ms/step - loss: 0.0427 - r2_score: 0.7830 - val_loss: 0.0282 - val_r2_score: 0.8571\n",
            "Epoch 38/50\n",
            "\u001b[1m95/95\u001b[0m \u001b[32m━━━━━━━━━━━━━━━━━━━━\u001b[0m\u001b[37m\u001b[0m \u001b[1m0s\u001b[0m 4ms/step - loss: 0.0427 - r2_score: 0.7811 - val_loss: 0.0271 - val_r2_score: 0.8624\n",
            "Epoch 39/50\n",
            "\u001b[1m95/95\u001b[0m \u001b[32m━━━━━━━━━━━━━━━━━━━━\u001b[0m\u001b[37m\u001b[0m \u001b[1m0s\u001b[0m 4ms/step - loss: 0.0420 - r2_score: 0.7860 - val_loss: 0.0263 - val_r2_score: 0.8667\n",
            "Epoch 40/50\n",
            "\u001b[1m95/95\u001b[0m \u001b[32m━━━━━━━━━━━━━━━━━━━━\u001b[0m\u001b[37m\u001b[0m \u001b[1m0s\u001b[0m 4ms/step - loss: 0.0409 - r2_score: 0.7908 - val_loss: 0.0268 - val_r2_score: 0.8643\n",
            "Epoch 41/50\n",
            "\u001b[1m95/95\u001b[0m \u001b[32m━━━━━━━━━━━━━━━━━━━━\u001b[0m\u001b[37m\u001b[0m \u001b[1m1s\u001b[0m 4ms/step - loss: 0.0406 - r2_score: 0.7931 - val_loss: 0.0252 - val_r2_score: 0.8722\n",
            "Epoch 42/50\n",
            "\u001b[1m95/95\u001b[0m \u001b[32m━━━━━━━━━━━━━━━━━━━━\u001b[0m\u001b[37m\u001b[0m \u001b[1m0s\u001b[0m 4ms/step - loss: 0.0400 - r2_score: 0.7967 - val_loss: 0.0262 - val_r2_score: 0.8670\n",
            "Epoch 43/50\n",
            "\u001b[1m95/95\u001b[0m \u001b[32m━━━━━━━━━━━━━━━━━━━━\u001b[0m\u001b[37m\u001b[0m \u001b[1m1s\u001b[0m 4ms/step - loss: 0.0397 - r2_score: 0.7979 - val_loss: 0.0245 - val_r2_score: 0.8759\n",
            "Epoch 44/50\n",
            "\u001b[1m95/95\u001b[0m \u001b[32m━━━━━━━━━━━━━━━━━━━━\u001b[0m\u001b[37m\u001b[0m \u001b[1m0s\u001b[0m 4ms/step - loss: 0.0395 - r2_score: 0.7998 - val_loss: 0.0250 - val_r2_score: 0.8731\n",
            "Epoch 45/50\n",
            "\u001b[1m95/95\u001b[0m \u001b[32m━━━━━━━━━━━━━━━━━━━━\u001b[0m\u001b[37m\u001b[0m \u001b[1m1s\u001b[0m 7ms/step - loss: 0.0394 - r2_score: 0.7990 - val_loss: 0.0243 - val_r2_score: 0.8770\n",
            "Epoch 46/50\n",
            "\u001b[1m95/95\u001b[0m \u001b[32m━━━━━━━━━━━━━━━━━━━━\u001b[0m\u001b[37m\u001b[0m \u001b[1m1s\u001b[0m 8ms/step - loss: 0.0392 - r2_score: 0.7996 - val_loss: 0.0236 - val_r2_score: 0.8804\n",
            "Epoch 47/50\n",
            "\u001b[1m95/95\u001b[0m \u001b[32m━━━━━━━━━━━━━━━━━━━━\u001b[0m\u001b[37m\u001b[0m \u001b[1m1s\u001b[0m 8ms/step - loss: 0.0383 - r2_score: 0.8047 - val_loss: 0.0244 - val_r2_score: 0.8762\n",
            "Epoch 48/50\n",
            "\u001b[1m95/95\u001b[0m \u001b[32m━━━━━━━━━━━━━━━━━━━━\u001b[0m\u001b[37m\u001b[0m \u001b[1m1s\u001b[0m 6ms/step - loss: 0.0380 - r2_score: 0.8068 - val_loss: 0.0238 - val_r2_score: 0.8794\n",
            "Epoch 49/50\n",
            "\u001b[1m95/95\u001b[0m \u001b[32m━━━━━━━━━━━━━━━━━━━━\u001b[0m\u001b[37m\u001b[0m \u001b[1m0s\u001b[0m 4ms/step - loss: 0.0379 - r2_score: 0.8073 - val_loss: 0.0225 - val_r2_score: 0.8859\n",
            "Epoch 50/50\n",
            "\u001b[1m95/95\u001b[0m \u001b[32m━━━━━━━━━━━━━━━━━━━━\u001b[0m\u001b[37m\u001b[0m \u001b[1m1s\u001b[0m 4ms/step - loss: 0.0375 - r2_score: 0.8085 - val_loss: 0.0235 - val_r2_score: 0.8809\n"
          ]
        }
      ]
    },
    {
      "cell_type": "code",
      "source": [
        "# Loss over Epochs\n",
        "import matplotlib.pyplot as plt\n",
        "\n",
        "plt.plot(history.history[\"loss\"], label=\"Train Loss\")\n",
        "plt.plot(history.history[\"val_loss\"], label=\"Val Loss\")\n",
        "plt.xlabel(\"Epochs\"); plt.ylabel(\"MSE Loss\")\n",
        "plt.title(\"Autoencoder Training Loss\")\n",
        "plt.legend(); plt.show()\n"
      ],
      "metadata": {
        "colab": {
          "base_uri": "https://localhost:8080/",
          "height": 472
        },
        "id": "BTP76YlyxRVg",
        "outputId": "d79b987c-b72c-4dbb-d612-eff1d77df003"
      },
      "execution_count": 20,
      "outputs": [
        {
          "output_type": "display_data",
          "data": {
            "text/plain": [
              "<Figure size 640x480 with 1 Axes>"
            ],
            "image/png": "[encoded data removed]"
          },
          "metadata": {}
        }
      ]
    },
    {
      "cell_type": "code",
      "source": [
        "# R2 score over Epochs\n",
        "import matplotlib.pyplot as plt\n",
        "\n",
        "plt.plot(history.history[\"r2_score\"], label=\"Train R2-Score\")\n",
        "plt.plot(history.history[\"val_r2_score\"], label=\"Val R2-Score\")\n",
        "plt.xlabel(\"Epochs\"); plt.ylabel(\"R2-Score\")\n",
        "plt.title(\"Autoencoder Training R2-Score\")\n",
        "plt.legend(); plt.show()"
      ],
      "metadata": {
        "colab": {
          "base_uri": "https://localhost:8080/",
          "height": 472
        },
        "id": "ypfcajBwxXto",
        "outputId": "f68ac6fd-5bf2-4d19-e279-289a2ff4e872"
      },
      "execution_count": 21,
      "outputs": [
        {
          "output_type": "display_data",
          "data": {
            "text/plain": [
              "<Figure size 640x480 with 1 Axes>"
            ],
            "image/png": "[encoded data removed]"
          },
          "metadata": {}
        }
      ]
    },
    {
      "cell_type": "code",
      "source": [
        "# Reconstruction Error - Testing and Evaluation\n",
        "\n",
        "X_test_pred = autoencoder.predict(X_test_prep)\n",
        "mse = np.mean(np.power(X_test_prep - X_test_pred, 2), axis=1)  # Manually calculating mse since keras mse gives batchwise mse.\n",
        "\n",
        "# Threshold = 95th percentile of train normals' reconstruction error\n",
        "X_train_pred = autoencoder.predict(X_train_prep)\n",
        "mse_train = np.mean(np.power(X_train_prep - X_train_pred, 2), axis=1)\n",
        "threshold = np.percentile(mse_train, 95)\n",
        "print(\"Threshold (95th percentile of normal errors):\", threshold)"
      ],
      "metadata": {
        "colab": {
          "base_uri": "https://localhost:8080/"
        },
        "id": "5dGUA_fjpbDe",
        "outputId": "bbac2ef0-e8f1-4af9-e41f-145c545cb77f"
      },
      "execution_count": 22,
      "outputs": [
        {
          "output_type": "stream",
          "name": "stdout",
          "text": [
            "\u001b[1m86/86\u001b[0m \u001b[32m━━━━━━━━━━━━━━━━━━━━\u001b[0m\u001b[37m\u001b[0m \u001b[1m0s\u001b[0m 2ms/step\n",
            "\u001b[1m190/190\u001b[0m \u001b[32m━━━━━━━━━━━━━━━━━━━━\u001b[0m\u001b[37m\u001b[0m \u001b[1m0s\u001b[0m 1ms/step\n",
            "Threshold (95th percentile of normal errors): 0.04173778\n"
          ]
        }
      ]
    },
    {
      "cell_type": "code",
      "source": [
        "# Predictions - Our criterion for right/wrong is just error being more than max of normal error. That decides whether that point is anomalous or not.\n",
        "\n",
        "threshold = 0.025  #np.percentile(mse_train, 95)\n",
        "y_pred = (mse > threshold).astype(int)  #Gives 0 or 1 based on error passing threshold"
      ],
      "metadata": {
        "id": "IA89WmH8rfo8"
      },
      "execution_count": 23,
      "outputs": []
    },
    {
      "cell_type": "code",
      "source": [
        "# =Evaluation\n",
        "\n",
        "print(\"\\nConfusion Matrix:\\n\", confusion_matrix(y_test, y_pred))\n",
        "print(\"\\nClassification Report:\\n\", classification_report(y_test, y_pred, digits=3))\n",
        "print(\"ROC-AUC (using reconstruction error):\", roc_auc_score(y_test, mse))\n"
      ],
      "metadata": {
        "colab": {
          "base_uri": "https://localhost:8080/"
        },
        "id": "5H4NX8Axru1m",
        "outputId": "d1dd461f-4ef9-44eb-ff9c-9091af5634b4"
      },
      "execution_count": 24,
      "outputs": [
        {
          "output_type": "stream",
          "name": "stdout",
          "text": [
            "\n",
            "Confusion Matrix:\n",
            " [[ 474  335]\n",
            " [ 718 1197]]\n",
            "\n",
            "Classification Report:\n",
            "               precision    recall  f1-score   support\n",
            "\n",
            "           0      0.398     0.586     0.474       809\n",
            "           1      0.781     0.625     0.695      1915\n",
            "\n",
            "    accuracy                          0.613      2724\n",
            "   macro avg      0.589     0.605     0.584      2724\n",
            "weighted avg      0.667     0.613     0.629      2724\n",
            "\n",
            "ROC-AUC (using reconstruction error): 0.6824755443815818\n"
          ]
        }
      ]
    },
    {
      "cell_type": "code",
      "source": [
        "# Distribution of reconstruction errors\n",
        "# Reconstruction errors on test set\n",
        "X_test_pred = autoencoder.predict(X_test_prep)\n",
        "mse_test = np.mean(np.power(X_test_prep - X_test_pred, 2), axis=1)\n",
        "\n",
        "plt.hist(mse_test[y_test==0], bins=50, alpha=0.6, label=\"Normal\")\n",
        "plt.hist(mse_test[y_test==1], bins=50, alpha=0.6, label=\"Anomaly\")\n",
        "plt.axvline(threshold, color='red', linestyle='--', label=f\"Threshold={threshold:.4f}\")\n",
        "plt.xlabel(\"Reconstruction Error\"); plt.ylabel(\"Count\")\n",
        "plt.title(\"Error Distribution: Normal vs Anomaly\")\n",
        "plt.legend(); plt.show()\n"
      ],
      "metadata": {
        "colab": {
          "base_uri": "https://localhost:8080/",
          "height": 489
        },
        "id": "VTJvRw2Puaaj",
        "outputId": "1b0bb1e9-0137-46d8-8cb4-f0acc37580b9"
      },
      "execution_count": 25,
      "outputs": [
        {
          "output_type": "stream",
          "name": "stdout",
          "text": [
            "\u001b[1m86/86\u001b[0m \u001b[32m━━━━━━━━━━━━━━━━━━━━\u001b[0m\u001b[37m\u001b[0m \u001b[1m0s\u001b[0m 1ms/step\n"
          ]
        },
        {
          "output_type": "display_data",
          "data": {
            "text/plain": [
              "<Figure size 640x480 with 1 Axes>"
            ],
            "image/png": "[encoded data removed]"
          },
          "metadata": {}
        }
      ]
    },
    {
      "cell_type": "code",
      "source": [
        "# Precision-Recall tradeoff\n",
        "\n",
        "from sklearn.metrics import precision_recall_curve\n",
        "\n",
        "prec, rec, thr = precision_recall_curve(y_test, mse_test)\n",
        "\n",
        "plt.plot(rec, prec, label=\"PR Curve\")\n",
        "plt.xlabel(\"Recall\"); plt.ylabel(\"Precision\")\n",
        "plt.title(\"Precision–Recall Curve\")\n",
        "plt.legend(); plt.show()"
      ],
      "metadata": {
        "colab": {
          "base_uri": "https://localhost:8080/",
          "height": 472
        },
        "id": "uuNRwuuVx-QR",
        "outputId": "eb934b72-bf29-4e39-a162-154748271012"
      },
      "execution_count": 26,
      "outputs": [
        {
          "output_type": "display_data",
          "data": {
            "text/plain": [
              "<Figure size 640x480 with 1 Axes>"
            ],
            "image/png": "[encoded data removed]"
          },
          "metadata": {}
        }
      ]
    },
    {
      "cell_type": "code",
      "source": [
        "# ROC-AUC\n",
        "from sklearn.metrics import roc_curve, auc\n",
        "\n",
        "fpr, tpr, _ = roc_curve(y_test, mse_test)\n",
        "roc_auc = auc(fpr, tpr)\n",
        "\n",
        "plt.plot(fpr, tpr, label=f\"ROC Curve (AUC = {roc_auc:.3f})\")\n",
        "plt.plot([0,1],[0,1],'--',color='gray')\n",
        "plt.xlabel(\"False Positive Rate\"); plt.ylabel(\"True Positive Rate\")\n",
        "plt.title(\"ROC Curve\")\n",
        "plt.legend(); plt.show()\n"
      ],
      "metadata": {
        "colab": {
          "base_uri": "https://localhost:8080/",
          "height": 472
        },
        "id": "Obh-pVRjyLig",
        "outputId": "39bf5007-c708-4b56-e202-a5c5339860cc"
      },
      "execution_count": 27,
      "outputs": [
        {
          "output_type": "display_data",
          "data": {
            "text/plain": [
              "<Figure size 640x480 with 1 Axes>"
            ],
            "image/png": "[encoded data removed]"
          },
          "metadata": {}
        }
      ]
    }
  ]
}